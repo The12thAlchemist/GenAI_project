{
  "nbformat": 4,
  "nbformat_minor": 0,
  "metadata": {
    "colab": {
      "provenance": [],
      "gpuType": "T4",
      "mount_file_id": "1EGdnyMKc345Ce_u8LpMUrAThNF1F79_7",
      "authorship_tag": "ABX9TyOAYoFhDmHJPyOgdppC4OeM",
      "include_colab_link": true
    },
    "kernelspec": {
      "name": "python3",
      "display_name": "Python 3"
    },
    "language_info": {
      "name": "python"
    },
    "accelerator": "GPU"
  },
  "cells": [
    {
      "cell_type": "markdown",
      "metadata": {
        "id": "view-in-github",
        "colab_type": "text"
      },
      "source": [
        "<a href=\"https://colab.research.google.com/github/The12thAlchemist/GenAI_project/blob/main/RAG_project.ipynb\" target=\"_parent\"><img src=\"https://colab.research.google.com/assets/colab-badge.svg\" alt=\"Open In Colab\"/></a>"
      ]
    },
    {
      "cell_type": "code",
      "execution_count": null,
      "metadata": {
        "id": "VqKGMP8W5WuD",
        "collapsed": true,
        "colab": {
          "base_uri": "https://localhost:8080/"
        },
        "outputId": "be19cf49-b37d-4383-b81f-7bbc9a002c1b"
      },
      "outputs": [
        {
          "output_type": "stream",
          "name": "stdout",
          "text": [
            "\u001b[?25l     \u001b[90m━━━━━━━━━━━━━━━━━━━━━━━━━━━━━━━━━━━━━━━━\u001b[0m \u001b[32m0.0/67.3 kB\u001b[0m \u001b[31m?\u001b[0m eta \u001b[36m-:--:--\u001b[0m\r\u001b[2K     \u001b[90m━━━━━━━━━━━━━━━━━━━━━━━━━━━━━━━━━━━━━━━━\u001b[0m \u001b[32m67.3/67.3 kB\u001b[0m \u001b[31m2.8 MB/s\u001b[0m eta \u001b[36m0:00:00\u001b[0m\n",
            "\u001b[?25h  Installing build dependencies ... \u001b[?25l\u001b[?25hdone\n",
            "  Getting requirements to build wheel ... \u001b[?25l\u001b[?25hdone\n",
            "  Preparing metadata (pyproject.toml) ... \u001b[?25l\u001b[?25hdone\n",
            "\u001b[2K   \u001b[90m━━━━━━━━━━━━━━━━━━━━━━━━━━━━━━━━━━━━━━━━\u001b[0m \u001b[32m41.3/41.3 kB\u001b[0m \u001b[31m2.8 MB/s\u001b[0m eta \u001b[36m0:00:00\u001b[0m\n",
            "\u001b[2K   \u001b[90m━━━━━━━━━━━━━━━━━━━━━━━━━━━━━━━━━━━━━━━━\u001b[0m \u001b[32m617.9/617.9 kB\u001b[0m \u001b[31m20.6 MB/s\u001b[0m eta \u001b[36m0:00:00\u001b[0m\n",
            "\u001b[2K   \u001b[90m━━━━━━━━━━━━━━━━━━━━━━━━━━━━━━━━━━━━━━━━\u001b[0m \u001b[32m2.4/2.4 MB\u001b[0m \u001b[31m61.7 MB/s\u001b[0m eta \u001b[36m0:00:00\u001b[0m\n",
            "\u001b[2K   \u001b[90m━━━━━━━━━━━━━━━━━━━━━━━━━━━━━━━━━━━━━━━━\u001b[0m \u001b[32m298.0/298.0 kB\u001b[0m \u001b[31m22.1 MB/s\u001b[0m eta \u001b[36m0:00:00\u001b[0m\n",
            "\u001b[2K   \u001b[90m━━━━━━━━━━━━━━━━━━━━━━━━━━━━━━━━━━━━━━━━\u001b[0m \u001b[32m278.6/278.6 kB\u001b[0m \u001b[31m23.4 MB/s\u001b[0m eta \u001b[36m0:00:00\u001b[0m\n",
            "\u001b[2K   \u001b[90m━━━━━━━━━━━━━━━━━━━━━━━━━━━━━━━━━━━━━━━━\u001b[0m \u001b[32m94.9/94.9 kB\u001b[0m \u001b[31m8.7 MB/s\u001b[0m eta \u001b[36m0:00:00\u001b[0m\n",
            "\u001b[2K   \u001b[90m━━━━━━━━━━━━━━━━━━━━━━━━━━━━━━━━━━━━━━━━\u001b[0m \u001b[32m1.9/1.9 MB\u001b[0m \u001b[31m70.7 MB/s\u001b[0m eta \u001b[36m0:00:00\u001b[0m\n",
            "\u001b[2K   \u001b[90m━━━━━━━━━━━━━━━━━━━━━━━━━━━━━━━━━━━━━━━━\u001b[0m \u001b[32m93.2/93.2 kB\u001b[0m \u001b[31m8.5 MB/s\u001b[0m eta \u001b[36m0:00:00\u001b[0m\n",
            "\u001b[2K   \u001b[90m━━━━━━━━━━━━━━━━━━━━━━━━━━━━━━━━━━━━━━━━\u001b[0m \u001b[32m13.3/13.3 MB\u001b[0m \u001b[31m109.5 MB/s\u001b[0m eta \u001b[36m0:00:00\u001b[0m\n",
            "\u001b[2K   \u001b[90m━━━━━━━━━━━━━━━━━━━━━━━━━━━━━━━━━━━━━━━━\u001b[0m \u001b[32m55.8/55.8 kB\u001b[0m \u001b[31m4.4 MB/s\u001b[0m eta \u001b[36m0:00:00\u001b[0m\n",
            "\u001b[2K   \u001b[90m━━━━━━━━━━━━━━━━━━━━━━━━━━━━━━━━━━━━━━━━\u001b[0m \u001b[32m54.8/54.8 kB\u001b[0m \u001b[31m3.8 MB/s\u001b[0m eta \u001b[36m0:00:00\u001b[0m\n",
            "\u001b[2K   \u001b[90m━━━━━━━━━━━━━━━━━━━━━━━━━━━━━━━━━━━━━━━━\u001b[0m \u001b[32m316.6/316.6 kB\u001b[0m \u001b[31m24.4 MB/s\u001b[0m eta \u001b[36m0:00:00\u001b[0m\n",
            "\u001b[2K   \u001b[90m━━━━━━━━━━━━━━━━━━━━━━━━━━━━━━━━━━━━━━━━\u001b[0m \u001b[32m63.8/63.8 kB\u001b[0m \u001b[31m5.2 MB/s\u001b[0m eta \u001b[36m0:00:00\u001b[0m\n",
            "\u001b[2K   \u001b[90m━━━━━━━━━━━━━━━━━━━━━━━━━━━━━━━━━━━━━━━━\u001b[0m \u001b[32m442.1/442.1 kB\u001b[0m \u001b[31m32.4 MB/s\u001b[0m eta \u001b[36m0:00:00\u001b[0m\n",
            "\u001b[2K   \u001b[90m━━━━━━━━━━━━━━━━━━━━━━━━━━━━━━━━━━━━━━━━\u001b[0m \u001b[32m73.2/73.2 kB\u001b[0m \u001b[31m6.2 MB/s\u001b[0m eta \u001b[36m0:00:00\u001b[0m\n",
            "\u001b[2K   \u001b[90m━━━━━━━━━━━━━━━━━━━━━━━━━━━━━━━━━━━━━━━━\u001b[0m \u001b[32m3.8/3.8 MB\u001b[0m \u001b[31m98.9 MB/s\u001b[0m eta \u001b[36m0:00:00\u001b[0m\n",
            "\u001b[2K   \u001b[90m━━━━━━━━━━━━━━━━━━━━━━━━━━━━━━━━━━━━━━━━\u001b[0m \u001b[32m442.6/442.6 kB\u001b[0m \u001b[31m30.7 MB/s\u001b[0m eta \u001b[36m0:00:00\u001b[0m\n",
            "\u001b[2K   \u001b[90m━━━━━━━━━━━━━━━━━━━━━━━━━━━━━━━━━━━━━━━━\u001b[0m \u001b[32m168.2/168.2 kB\u001b[0m \u001b[31m14.3 MB/s\u001b[0m eta \u001b[36m0:00:00\u001b[0m\n",
            "\u001b[2K   \u001b[90m━━━━━━━━━━━━━━━━━━━━━━━━━━━━━━━━━━━━━━━━\u001b[0m \u001b[32m46.0/46.0 kB\u001b[0m \u001b[31m4.0 MB/s\u001b[0m eta \u001b[36m0:00:00\u001b[0m\n",
            "\u001b[2K   \u001b[90m━━━━━━━━━━━━━━━━━━━━━━━━━━━━━━━━━━━━━━━━\u001b[0m \u001b[32m86.8/86.8 kB\u001b[0m \u001b[31m8.2 MB/s\u001b[0m eta \u001b[36m0:00:00\u001b[0m\n",
            "\u001b[?25h  Building wheel for pypika (pyproject.toml) ... \u001b[?25l\u001b[?25hdone\n",
            "\u001b[31mERROR: pip's dependency resolver does not currently take into account all the packages that are installed. This behaviour is the source of the following dependency conflicts.\n",
            "tensorflow 2.17.1 requires protobuf!=4.21.0,!=4.21.1,!=4.21.2,!=4.21.3,!=4.21.4,!=4.21.5,<5.0.0dev,>=3.20.3, but you have protobuf 5.28.3 which is incompatible.\n",
            "tensorflow-metadata 1.13.1 requires protobuf<5,>=3.20.3, but you have protobuf 5.28.3 which is incompatible.\u001b[0m\u001b[31m\n",
            "\u001b[0m"
          ]
        }
      ],
      "source": [
        "pip install -q --upgrade google-generativeai langchain-google-genai chromadb pypdf"
      ]
    },
    {
      "cell_type": "code",
      "source": [
        "import google.generativeai as genai\n",
        "from google.colab import userdata"
      ],
      "metadata": {
        "id": "-BxQE3ZLpTn0"
      },
      "execution_count": null,
      "outputs": []
    },
    {
      "cell_type": "code",
      "source": [
        "import os\n",
        "GOOGLE_API_KEY=userdata.get('GOOGLE_API_KEY')\n",
        "genai.configure(api_key=GOOGLE_API_KEY)"
      ],
      "metadata": {
        "id": "4MrOmHG6pTqj"
      },
      "execution_count": null,
      "outputs": []
    },
    {
      "cell_type": "code",
      "source": [
        "\n",
        "!sudo apt -y -qq install tesseract-ocr libtesseract-dev\n",
        "\n",
        "!sudo apt-get -y -qq install poppler-utils libxml2-dev libxslt1-dev antiword unrtf poppler-utils pstotext tesseract-ocr flac ffmpeg lame libmad0 libsox-fmt-mp3 sox libjpeg-dev swig\n",
        "\n",
        "!pip install langchain"
      ],
      "metadata": {
        "colab": {
          "base_uri": "https://localhost:8080/"
        },
        "id": "pbWD3z1zpTwk",
        "outputId": "61d7a287-ef96-4e76-edb3-492eda4edc8f",
        "collapsed": true
      },
      "execution_count": null,
      "outputs": [
        {
          "output_type": "stream",
          "name": "stdout",
          "text": [
            "The following additional packages will be installed:\n",
            "  libarchive-dev libleptonica-dev tesseract-ocr-eng tesseract-ocr-osd\n",
            "The following NEW packages will be installed:\n",
            "  libarchive-dev libleptonica-dev libtesseract-dev tesseract-ocr\n",
            "  tesseract-ocr-eng tesseract-ocr-osd\n",
            "0 upgraded, 6 newly installed, 0 to remove and 49 not upgraded.\n",
            "Need to get 8,560 kB of archives.\n",
            "After this operation, 31.6 MB of additional disk space will be used.\n",
            "debconf: unable to initialize frontend: Dialog\n",
            "debconf: (No usable dialog-like program is installed, so the dialog based frontend cannot be used. at /usr/share/perl5/Debconf/FrontEnd/Dialog.pm line 78, <> line 6.)\n",
            "debconf: falling back to frontend: Readline\n",
            "debconf: unable to initialize frontend: Readline\n",
            "debconf: (This frontend requires a controlling tty.)\n",
            "debconf: falling back to frontend: Teletype\n",
            "dpkg-preconfigure: unable to re-open stdin: \n",
            "Selecting previously unselected package libarchive-dev:amd64.\n",
            "(Reading database ... 123630 files and directories currently installed.)\n",
            "Preparing to unpack .../0-libarchive-dev_3.6.0-1ubuntu1.3_amd64.deb ...\n",
            "Unpacking libarchive-dev:amd64 (3.6.0-1ubuntu1.3) ...\n",
            "Selecting previously unselected package libleptonica-dev.\n",
            "Preparing to unpack .../1-libleptonica-dev_1.82.0-3build1_amd64.deb ...\n",
            "Unpacking libleptonica-dev (1.82.0-3build1) ...\n",
            "Selecting previously unselected package libtesseract-dev:amd64.\n",
            "Preparing to unpack .../2-libtesseract-dev_4.1.1-2.1build1_amd64.deb ...\n",
            "Unpacking libtesseract-dev:amd64 (4.1.1-2.1build1) ...\n",
            "Selecting previously unselected package tesseract-ocr-eng.\n",
            "Preparing to unpack .../3-tesseract-ocr-eng_1%3a4.00~git30-7274cfa-1.1_all.deb ...\n",
            "Unpacking tesseract-ocr-eng (1:4.00~git30-7274cfa-1.1) ...\n",
            "Selecting previously unselected package tesseract-ocr-osd.\n",
            "Preparing to unpack .../4-tesseract-ocr-osd_1%3a4.00~git30-7274cfa-1.1_all.deb ...\n",
            "Unpacking tesseract-ocr-osd (1:4.00~git30-7274cfa-1.1) ...\n",
            "Selecting previously unselected package tesseract-ocr.\n",
            "Preparing to unpack .../5-tesseract-ocr_4.1.1-2.1build1_amd64.deb ...\n",
            "Unpacking tesseract-ocr (4.1.1-2.1build1) ...\n",
            "Setting up tesseract-ocr-eng (1:4.00~git30-7274cfa-1.1) ...\n",
            "Setting up libleptonica-dev (1.82.0-3build1) ...\n",
            "Setting up libarchive-dev:amd64 (3.6.0-1ubuntu1.3) ...\n",
            "Setting up tesseract-ocr-osd (1:4.00~git30-7274cfa-1.1) ...\n",
            "Setting up libtesseract-dev:amd64 (4.1.1-2.1build1) ...\n",
            "Setting up tesseract-ocr (4.1.1-2.1build1) ...\n",
            "Processing triggers for man-db (2.10.2-1) ...\n",
            "debconf: unable to initialize frontend: Dialog\n",
            "debconf: (No usable dialog-like program is installed, so the dialog based frontend cannot be used. at /usr/share/perl5/Debconf/FrontEnd/Dialog.pm line 78, <> line 29.)\n",
            "debconf: falling back to frontend: Readline\n",
            "debconf: unable to initialize frontend: Readline\n",
            "debconf: (This frontend requires a controlling tty.)\n",
            "debconf: falling back to frontend: Teletype\n",
            "dpkg-preconfigure: unable to re-open stdin: \n",
            "Selecting previously unselected package fonts-droid-fallback.\n",
            "(Reading database ... 123810 files and directories currently installed.)\n",
            "Preparing to unpack .../00-fonts-droid-fallback_1%3a6.0.1r16-1.1build1_all.deb ...\n",
            "Unpacking fonts-droid-fallback (1:6.0.1r16-1.1build1) ...\n",
            "Selecting previously unselected package poppler-data.\n",
            "Preparing to unpack .../01-poppler-data_0.4.11-1_all.deb ...\n",
            "Unpacking poppler-data (0.4.11-1) ...\n",
            "Selecting previously unselected package antiword.\n",
            "Preparing to unpack .../02-antiword_0.37-16_amd64.deb ...\n",
            "Unpacking antiword (0.37-16) ...\n",
            "Selecting previously unselected package flac.\n",
            "Preparing to unpack .../03-flac_1.3.3-2ubuntu0.2_amd64.deb ...\n",
            "Unpacking flac (1.3.3-2ubuntu0.2) ...\n",
            "Selecting previously unselected package fonts-noto-mono.\n",
            "Preparing to unpack .../04-fonts-noto-mono_20201225-1build1_all.deb ...\n",
            "Unpacking fonts-noto-mono (20201225-1build1) ...\n",
            "Selecting previously unselected package fonts-urw-base35.\n",
            "Preparing to unpack .../05-fonts-urw-base35_20200910-1_all.deb ...\n",
            "Unpacking fonts-urw-base35 (20200910-1) ...\n",
            "Selecting previously unselected package libgs9-common.\n",
            "Preparing to unpack .../06-libgs9-common_9.55.0~dfsg1-0ubuntu5.10_all.deb ...\n",
            "Unpacking libgs9-common (9.55.0~dfsg1-0ubuntu5.10) ...\n",
            "Selecting previously unselected package libidn12:amd64.\n",
            "Preparing to unpack .../07-libidn12_1.38-4ubuntu1_amd64.deb ...\n",
            "Unpacking libidn12:amd64 (1.38-4ubuntu1) ...\n",
            "Selecting previously unselected package libijs-0.35:amd64.\n",
            "Preparing to unpack .../08-libijs-0.35_0.35-15build2_amd64.deb ...\n",
            "Unpacking libijs-0.35:amd64 (0.35-15build2) ...\n",
            "Selecting previously unselected package libjbig2dec0:amd64.\n",
            "Preparing to unpack .../09-libjbig2dec0_0.19-3build2_amd64.deb ...\n",
            "Unpacking libjbig2dec0:amd64 (0.19-3build2) ...\n",
            "Selecting previously unselected package libgs9:amd64.\n",
            "Preparing to unpack .../10-libgs9_9.55.0~dfsg1-0ubuntu5.10_amd64.deb ...\n",
            "Unpacking libgs9:amd64 (9.55.0~dfsg1-0ubuntu5.10) ...\n",
            "Selecting previously unselected package ghostscript.\n",
            "Preparing to unpack .../11-ghostscript_9.55.0~dfsg1-0ubuntu5.10_amd64.deb ...\n",
            "Unpacking ghostscript (9.55.0~dfsg1-0ubuntu5.10) ...\n",
            "Selecting previously unselected package lame.\n",
            "Preparing to unpack .../12-lame_3.100-3build2_amd64.deb ...\n",
            "Unpacking lame (3.100-3build2) ...\n",
            "Selecting previously unselected package libid3tag0:amd64.\n",
            "Preparing to unpack .../13-libid3tag0_0.15.1b-14_amd64.deb ...\n",
            "Unpacking libid3tag0:amd64 (0.15.1b-14) ...\n",
            "Selecting previously unselected package libmad0:amd64.\n",
            "Preparing to unpack .../14-libmad0_0.15.1b-10ubuntu1_amd64.deb ...\n",
            "Unpacking libmad0:amd64 (0.15.1b-10ubuntu1) ...\n",
            "Selecting previously unselected package libopencore-amrnb0:amd64.\n",
            "Preparing to unpack .../15-libopencore-amrnb0_0.1.5-1_amd64.deb ...\n",
            "Unpacking libopencore-amrnb0:amd64 (0.1.5-1) ...\n",
            "Selecting previously unselected package libopencore-amrwb0:amd64.\n",
            "Preparing to unpack .../16-libopencore-amrwb0_0.1.5-1_amd64.deb ...\n",
            "Unpacking libopencore-amrwb0:amd64 (0.1.5-1) ...\n",
            "Selecting previously unselected package libsox3:amd64.\n",
            "Preparing to unpack .../17-libsox3_14.4.2+git20190427-2+deb11u2ubuntu0.22.04.1_amd64.deb ...\n",
            "Unpacking libsox3:amd64 (14.4.2+git20190427-2+deb11u2ubuntu0.22.04.1) ...\n",
            "Selecting previously unselected package libsox-fmt-alsa:amd64.\n",
            "Preparing to unpack .../18-libsox-fmt-alsa_14.4.2+git20190427-2+deb11u2ubuntu0.22.04.1_amd64.deb ...\n",
            "Unpacking libsox-fmt-alsa:amd64 (14.4.2+git20190427-2+deb11u2ubuntu0.22.04.1) ...\n",
            "Selecting previously unselected package libwavpack1:amd64.\n",
            "Preparing to unpack .../19-libwavpack1_5.4.0-1build2_amd64.deb ...\n",
            "Unpacking libwavpack1:amd64 (5.4.0-1build2) ...\n",
            "Selecting previously unselected package libsox-fmt-base:amd64.\n",
            "Preparing to unpack .../20-libsox-fmt-base_14.4.2+git20190427-2+deb11u2ubuntu0.22.04.1_amd64.deb ...\n",
            "Unpacking libsox-fmt-base:amd64 (14.4.2+git20190427-2+deb11u2ubuntu0.22.04.1) ...\n",
            "Selecting previously unselected package libsox-fmt-mp3:amd64.\n",
            "Preparing to unpack .../21-libsox-fmt-mp3_14.4.2+git20190427-2+deb11u2ubuntu0.22.04.1_amd64.deb ...\n",
            "Unpacking libsox-fmt-mp3:amd64 (14.4.2+git20190427-2+deb11u2ubuntu0.22.04.1) ...\n",
            "Selecting previously unselected package libxslt1-dev:amd64.\n",
            "Preparing to unpack .../22-libxslt1-dev_1.1.34-4ubuntu0.22.04.1_amd64.deb ...\n",
            "Unpacking libxslt1-dev:amd64 (1.1.34-4ubuntu0.22.04.1) ...\n",
            "Selecting previously unselected package poppler-utils.\n",
            "Preparing to unpack .../23-poppler-utils_22.02.0-2ubuntu0.5_amd64.deb ...\n",
            "Unpacking poppler-utils (22.02.0-2ubuntu0.5) ...\n",
            "Selecting previously unselected package pstotext.\n",
            "Preparing to unpack .../24-pstotext_1.9-6build1_amd64.deb ...\n",
            "Unpacking pstotext (1.9-6build1) ...\n",
            "Selecting previously unselected package sox.\n",
            "Preparing to unpack .../25-sox_14.4.2+git20190427-2+deb11u2ubuntu0.22.04.1_amd64.deb ...\n",
            "Unpacking sox (14.4.2+git20190427-2+deb11u2ubuntu0.22.04.1) ...\n",
            "Selecting previously unselected package swig4.0.\n",
            "Preparing to unpack .../26-swig4.0_4.0.2-1ubuntu1_amd64.deb ...\n",
            "Unpacking swig4.0 (4.0.2-1ubuntu1) ...\n",
            "Selecting previously unselected package swig.\n",
            "Preparing to unpack .../27-swig_4.0.2-1ubuntu1_all.deb ...\n",
            "Unpacking swig (4.0.2-1ubuntu1) ...\n",
            "Selecting previously unselected package unrtf.\n",
            "Preparing to unpack .../28-unrtf_0.21.10-clean-1_amd64.deb ...\n",
            "Unpacking unrtf (0.21.10-clean-1) ...\n",
            "Setting up unrtf (0.21.10-clean-1) ...\n",
            "Setting up libxslt1-dev:amd64 (1.1.34-4ubuntu0.22.04.1) ...\n",
            "Setting up fonts-noto-mono (20201225-1build1) ...\n",
            "Setting up libsox3:amd64 (14.4.2+git20190427-2+deb11u2ubuntu0.22.04.1) ...\n",
            "Setting up libijs-0.35:amd64 (0.35-15build2) ...\n",
            "Setting up fonts-urw-base35 (20200910-1) ...\n",
            "Setting up lame (3.100-3build2) ...\n",
            "Setting up poppler-data (0.4.11-1) ...\n",
            "Setting up libid3tag0:amd64 (0.15.1b-14) ...\n",
            "Setting up libopencore-amrwb0:amd64 (0.1.5-1) ...\n",
            "Setting up flac (1.3.3-2ubuntu0.2) ...\n",
            "Setting up libjbig2dec0:amd64 (0.19-3build2) ...\n",
            "Setting up libidn12:amd64 (1.38-4ubuntu1) ...\n",
            "Setting up libsox-fmt-alsa:amd64 (14.4.2+git20190427-2+deb11u2ubuntu0.22.04.1) ...\n",
            "Setting up libmad0:amd64 (0.15.1b-10ubuntu1) ...\n",
            "Setting up libwavpack1:amd64 (5.4.0-1build2) ...\n",
            "Setting up libopencore-amrnb0:amd64 (0.1.5-1) ...\n",
            "Setting up antiword (0.37-16) ...\n",
            "Setting up libsox-fmt-base:amd64 (14.4.2+git20190427-2+deb11u2ubuntu0.22.04.1) ...\n",
            "Setting up fonts-droid-fallback (1:6.0.1r16-1.1build1) ...\n",
            "Setting up poppler-utils (22.02.0-2ubuntu0.5) ...\n",
            "Setting up swig4.0 (4.0.2-1ubuntu1) ...\n",
            "Setting up libsox-fmt-mp3:amd64 (14.4.2+git20190427-2+deb11u2ubuntu0.22.04.1) ...\n",
            "Setting up libgs9-common (9.55.0~dfsg1-0ubuntu5.10) ...\n",
            "Setting up swig (4.0.2-1ubuntu1) ...\n",
            "Setting up libgs9:amd64 (9.55.0~dfsg1-0ubuntu5.10) ...\n",
            "Setting up ghostscript (9.55.0~dfsg1-0ubuntu5.10) ...\n",
            "Setting up sox (14.4.2+git20190427-2+deb11u2ubuntu0.22.04.1) ...\n",
            "Setting up pstotext (1.9-6build1) ...\n",
            "Processing triggers for libc-bin (2.35-0ubuntu3.4) ...\n",
            "/sbin/ldconfig.real: /usr/local/lib/libtcm.so.1 is not a symbolic link\n",
            "\n",
            "/sbin/ldconfig.real: /usr/local/lib/libhwloc.so.15 is not a symbolic link\n",
            "\n",
            "/sbin/ldconfig.real: /usr/local/lib/libur_loader.so.0 is not a symbolic link\n",
            "\n",
            "/sbin/ldconfig.real: /usr/local/lib/libumf.so.0 is not a symbolic link\n",
            "\n",
            "/sbin/ldconfig.real: /usr/local/lib/libtbbmalloc_proxy.so.2 is not a symbolic link\n",
            "\n",
            "/sbin/ldconfig.real: /usr/local/lib/libur_adapter_level_zero.so.0 is not a symbolic link\n",
            "\n",
            "/sbin/ldconfig.real: /usr/local/lib/libtbbbind_2_5.so.3 is not a symbolic link\n",
            "\n",
            "/sbin/ldconfig.real: /usr/local/lib/libtbbmalloc.so.2 is not a symbolic link\n",
            "\n",
            "/sbin/ldconfig.real: /usr/local/lib/libtbb.so.12 is not a symbolic link\n",
            "\n",
            "/sbin/ldconfig.real: /usr/local/lib/libur_adapter_opencl.so.0 is not a symbolic link\n",
            "\n",
            "/sbin/ldconfig.real: /usr/local/lib/libtbbbind_2_0.so.3 is not a symbolic link\n",
            "\n",
            "/sbin/ldconfig.real: /usr/local/lib/libtbbbind.so.3 is not a symbolic link\n",
            "\n",
            "/sbin/ldconfig.real: /usr/local/lib/libtcm_debug.so.1 is not a symbolic link\n",
            "\n",
            "Processing triggers for man-db (2.10.2-1) ...\n",
            "Processing triggers for fontconfig (2.13.1-4.2ubuntu5) ...\n",
            "Requirement already satisfied: langchain in /usr/local/lib/python3.10/dist-packages (0.3.7)\n",
            "Requirement already satisfied: PyYAML>=5.3 in /usr/local/lib/python3.10/dist-packages (from langchain) (6.0.2)\n",
            "Requirement already satisfied: SQLAlchemy<3,>=1.4 in /usr/local/lib/python3.10/dist-packages (from langchain) (2.0.36)\n",
            "Requirement already satisfied: aiohttp<4.0.0,>=3.8.3 in /usr/local/lib/python3.10/dist-packages (from langchain) (3.11.2)\n",
            "Requirement already satisfied: async-timeout<5.0.0,>=4.0.0 in /usr/local/lib/python3.10/dist-packages (from langchain) (4.0.3)\n",
            "Requirement already satisfied: langchain-core<0.4.0,>=0.3.15 in /usr/local/lib/python3.10/dist-packages (from langchain) (0.3.19)\n",
            "Requirement already satisfied: langchain-text-splitters<0.4.0,>=0.3.0 in /usr/local/lib/python3.10/dist-packages (from langchain) (0.3.2)\n",
            "Requirement already satisfied: langsmith<0.2.0,>=0.1.17 in /usr/local/lib/python3.10/dist-packages (from langchain) (0.1.143)\n",
            "Requirement already satisfied: numpy<2,>=1 in /usr/local/lib/python3.10/dist-packages (from langchain) (1.26.4)\n",
            "Requirement already satisfied: pydantic<3.0.0,>=2.7.4 in /usr/local/lib/python3.10/dist-packages (from langchain) (2.9.2)\n",
            "Requirement already satisfied: requests<3,>=2 in /usr/local/lib/python3.10/dist-packages (from langchain) (2.32.3)\n",
            "Requirement already satisfied: tenacity!=8.4.0,<10,>=8.1.0 in /usr/local/lib/python3.10/dist-packages (from langchain) (9.0.0)\n",
            "Requirement already satisfied: aiohappyeyeballs>=2.3.0 in /usr/local/lib/python3.10/dist-packages (from aiohttp<4.0.0,>=3.8.3->langchain) (2.4.3)\n",
            "Requirement already satisfied: aiosignal>=1.1.2 in /usr/local/lib/python3.10/dist-packages (from aiohttp<4.0.0,>=3.8.3->langchain) (1.3.1)\n",
            "Requirement already satisfied: attrs>=17.3.0 in /usr/local/lib/python3.10/dist-packages (from aiohttp<4.0.0,>=3.8.3->langchain) (24.2.0)\n",
            "Requirement already satisfied: frozenlist>=1.1.1 in /usr/local/lib/python3.10/dist-packages (from aiohttp<4.0.0,>=3.8.3->langchain) (1.5.0)\n",
            "Requirement already satisfied: multidict<7.0,>=4.5 in /usr/local/lib/python3.10/dist-packages (from aiohttp<4.0.0,>=3.8.3->langchain) (6.1.0)\n",
            "Requirement already satisfied: propcache>=0.2.0 in /usr/local/lib/python3.10/dist-packages (from aiohttp<4.0.0,>=3.8.3->langchain) (0.2.0)\n",
            "Requirement already satisfied: yarl<2.0,>=1.17.0 in /usr/local/lib/python3.10/dist-packages (from aiohttp<4.0.0,>=3.8.3->langchain) (1.17.2)\n",
            "Requirement already satisfied: jsonpatch<2.0,>=1.33 in /usr/local/lib/python3.10/dist-packages (from langchain-core<0.4.0,>=0.3.15->langchain) (1.33)\n",
            "Requirement already satisfied: packaging<25,>=23.2 in /usr/local/lib/python3.10/dist-packages (from langchain-core<0.4.0,>=0.3.15->langchain) (24.2)\n",
            "Requirement already satisfied: typing-extensions>=4.7 in /usr/local/lib/python3.10/dist-packages (from langchain-core<0.4.0,>=0.3.15->langchain) (4.12.2)\n",
            "Requirement already satisfied: httpx<1,>=0.23.0 in /usr/local/lib/python3.10/dist-packages (from langsmith<0.2.0,>=0.1.17->langchain) (0.27.2)\n",
            "Requirement already satisfied: orjson<4.0.0,>=3.9.14 in /usr/local/lib/python3.10/dist-packages (from langsmith<0.2.0,>=0.1.17->langchain) (3.10.11)\n",
            "Requirement already satisfied: requests-toolbelt<2.0.0,>=1.0.0 in /usr/local/lib/python3.10/dist-packages (from langsmith<0.2.0,>=0.1.17->langchain) (1.0.0)\n",
            "Requirement already satisfied: annotated-types>=0.6.0 in /usr/local/lib/python3.10/dist-packages (from pydantic<3.0.0,>=2.7.4->langchain) (0.7.0)\n",
            "Requirement already satisfied: pydantic-core==2.23.4 in /usr/local/lib/python3.10/dist-packages (from pydantic<3.0.0,>=2.7.4->langchain) (2.23.4)\n",
            "Requirement already satisfied: charset-normalizer<4,>=2 in /usr/local/lib/python3.10/dist-packages (from requests<3,>=2->langchain) (3.4.0)\n",
            "Requirement already satisfied: idna<4,>=2.5 in /usr/local/lib/python3.10/dist-packages (from requests<3,>=2->langchain) (3.10)\n",
            "Requirement already satisfied: urllib3<3,>=1.21.1 in /usr/local/lib/python3.10/dist-packages (from requests<3,>=2->langchain) (2.2.3)\n",
            "Requirement already satisfied: certifi>=2017.4.17 in /usr/local/lib/python3.10/dist-packages (from requests<3,>=2->langchain) (2024.8.30)\n",
            "Requirement already satisfied: greenlet!=0.4.17 in /usr/local/lib/python3.10/dist-packages (from SQLAlchemy<3,>=1.4->langchain) (3.1.1)\n",
            "Requirement already satisfied: anyio in /usr/local/lib/python3.10/dist-packages (from httpx<1,>=0.23.0->langsmith<0.2.0,>=0.1.17->langchain) (3.7.1)\n",
            "Requirement already satisfied: httpcore==1.* in /usr/local/lib/python3.10/dist-packages (from httpx<1,>=0.23.0->langsmith<0.2.0,>=0.1.17->langchain) (1.0.7)\n",
            "Requirement already satisfied: sniffio in /usr/local/lib/python3.10/dist-packages (from httpx<1,>=0.23.0->langsmith<0.2.0,>=0.1.17->langchain) (1.3.1)\n",
            "Requirement already satisfied: h11<0.15,>=0.13 in /usr/local/lib/python3.10/dist-packages (from httpcore==1.*->httpx<1,>=0.23.0->langsmith<0.2.0,>=0.1.17->langchain) (0.14.0)\n",
            "Requirement already satisfied: jsonpointer>=1.9 in /usr/local/lib/python3.10/dist-packages (from jsonpatch<2.0,>=1.33->langchain-core<0.4.0,>=0.3.15->langchain) (3.0.0)\n",
            "Requirement already satisfied: exceptiongroup in /usr/local/lib/python3.10/dist-packages (from anyio->httpx<1,>=0.23.0->langsmith<0.2.0,>=0.1.17->langchain) (1.2.2)\n"
          ]
        }
      ]
    },
    {
      "cell_type": "code",
      "source": [
        "pip install -U langchain-community"
      ],
      "metadata": {
        "colab": {
          "base_uri": "https://localhost:8080/"
        },
        "id": "kHbG3sskpT0R",
        "outputId": "56ff95bb-8aeb-418c-d60b-aec131b350a6",
        "collapsed": true
      },
      "execution_count": null,
      "outputs": [
        {
          "output_type": "stream",
          "name": "stdout",
          "text": [
            "Collecting langchain-community\n",
            "  Downloading langchain_community-0.3.8-py3-none-any.whl.metadata (2.9 kB)\n",
            "Requirement already satisfied: PyYAML>=5.3 in /usr/local/lib/python3.10/dist-packages (from langchain-community) (6.0.2)\n",
            "Collecting SQLAlchemy<2.0.36,>=1.4 (from langchain-community)\n",
            "  Downloading SQLAlchemy-2.0.35-cp310-cp310-manylinux_2_17_x86_64.manylinux2014_x86_64.whl.metadata (9.6 kB)\n",
            "Requirement already satisfied: aiohttp<4.0.0,>=3.8.3 in /usr/local/lib/python3.10/dist-packages (from langchain-community) (3.11.2)\n",
            "Collecting dataclasses-json<0.7,>=0.5.7 (from langchain-community)\n",
            "  Downloading dataclasses_json-0.6.7-py3-none-any.whl.metadata (25 kB)\n",
            "Collecting httpx-sse<0.5.0,>=0.4.0 (from langchain-community)\n",
            "  Downloading httpx_sse-0.4.0-py3-none-any.whl.metadata (9.0 kB)\n",
            "Collecting langchain<0.4.0,>=0.3.8 (from langchain-community)\n",
            "  Downloading langchain-0.3.8-py3-none-any.whl.metadata (7.1 kB)\n",
            "Collecting langchain-core<0.4.0,>=0.3.21 (from langchain-community)\n",
            "  Downloading langchain_core-0.3.21-py3-none-any.whl.metadata (6.3 kB)\n",
            "Requirement already satisfied: langsmith<0.2.0,>=0.1.125 in /usr/local/lib/python3.10/dist-packages (from langchain-community) (0.1.143)\n",
            "Requirement already satisfied: numpy<2,>=1.22.4 in /usr/local/lib/python3.10/dist-packages (from langchain-community) (1.26.4)\n",
            "Collecting pydantic-settings<3.0.0,>=2.4.0 (from langchain-community)\n",
            "  Downloading pydantic_settings-2.6.1-py3-none-any.whl.metadata (3.5 kB)\n",
            "Requirement already satisfied: requests<3,>=2 in /usr/local/lib/python3.10/dist-packages (from langchain-community) (2.32.3)\n",
            "Requirement already satisfied: tenacity!=8.4.0,<10,>=8.1.0 in /usr/local/lib/python3.10/dist-packages (from langchain-community) (9.0.0)\n",
            "Requirement already satisfied: aiohappyeyeballs>=2.3.0 in /usr/local/lib/python3.10/dist-packages (from aiohttp<4.0.0,>=3.8.3->langchain-community) (2.4.3)\n",
            "Requirement already satisfied: aiosignal>=1.1.2 in /usr/local/lib/python3.10/dist-packages (from aiohttp<4.0.0,>=3.8.3->langchain-community) (1.3.1)\n",
            "Requirement already satisfied: attrs>=17.3.0 in /usr/local/lib/python3.10/dist-packages (from aiohttp<4.0.0,>=3.8.3->langchain-community) (24.2.0)\n",
            "Requirement already satisfied: frozenlist>=1.1.1 in /usr/local/lib/python3.10/dist-packages (from aiohttp<4.0.0,>=3.8.3->langchain-community) (1.5.0)\n",
            "Requirement already satisfied: multidict<7.0,>=4.5 in /usr/local/lib/python3.10/dist-packages (from aiohttp<4.0.0,>=3.8.3->langchain-community) (6.1.0)\n",
            "Requirement already satisfied: propcache>=0.2.0 in /usr/local/lib/python3.10/dist-packages (from aiohttp<4.0.0,>=3.8.3->langchain-community) (0.2.0)\n",
            "Requirement already satisfied: yarl<2.0,>=1.17.0 in /usr/local/lib/python3.10/dist-packages (from aiohttp<4.0.0,>=3.8.3->langchain-community) (1.17.2)\n",
            "Requirement already satisfied: async-timeout<6.0,>=4.0 in /usr/local/lib/python3.10/dist-packages (from aiohttp<4.0.0,>=3.8.3->langchain-community) (4.0.3)\n",
            "Collecting marshmallow<4.0.0,>=3.18.0 (from dataclasses-json<0.7,>=0.5.7->langchain-community)\n",
            "  Downloading marshmallow-3.23.1-py3-none-any.whl.metadata (7.5 kB)\n",
            "Collecting typing-inspect<1,>=0.4.0 (from dataclasses-json<0.7,>=0.5.7->langchain-community)\n",
            "  Downloading typing_inspect-0.9.0-py3-none-any.whl.metadata (1.5 kB)\n",
            "Requirement already satisfied: langchain-text-splitters<0.4.0,>=0.3.0 in /usr/local/lib/python3.10/dist-packages (from langchain<0.4.0,>=0.3.8->langchain-community) (0.3.2)\n",
            "Requirement already satisfied: pydantic<3.0.0,>=2.7.4 in /usr/local/lib/python3.10/dist-packages (from langchain<0.4.0,>=0.3.8->langchain-community) (2.9.2)\n",
            "Requirement already satisfied: jsonpatch<2.0,>=1.33 in /usr/local/lib/python3.10/dist-packages (from langchain-core<0.4.0,>=0.3.21->langchain-community) (1.33)\n",
            "Requirement already satisfied: packaging<25,>=23.2 in /usr/local/lib/python3.10/dist-packages (from langchain-core<0.4.0,>=0.3.21->langchain-community) (24.2)\n",
            "Requirement already satisfied: typing-extensions>=4.7 in /usr/local/lib/python3.10/dist-packages (from langchain-core<0.4.0,>=0.3.21->langchain-community) (4.12.2)\n",
            "Requirement already satisfied: httpx<1,>=0.23.0 in /usr/local/lib/python3.10/dist-packages (from langsmith<0.2.0,>=0.1.125->langchain-community) (0.27.2)\n",
            "Requirement already satisfied: orjson<4.0.0,>=3.9.14 in /usr/local/lib/python3.10/dist-packages (from langsmith<0.2.0,>=0.1.125->langchain-community) (3.10.11)\n",
            "Requirement already satisfied: requests-toolbelt<2.0.0,>=1.0.0 in /usr/local/lib/python3.10/dist-packages (from langsmith<0.2.0,>=0.1.125->langchain-community) (1.0.0)\n",
            "Requirement already satisfied: python-dotenv>=0.21.0 in /usr/local/lib/python3.10/dist-packages (from pydantic-settings<3.0.0,>=2.4.0->langchain-community) (1.0.1)\n",
            "Requirement already satisfied: charset-normalizer<4,>=2 in /usr/local/lib/python3.10/dist-packages (from requests<3,>=2->langchain-community) (3.4.0)\n",
            "Requirement already satisfied: idna<4,>=2.5 in /usr/local/lib/python3.10/dist-packages (from requests<3,>=2->langchain-community) (3.10)\n",
            "Requirement already satisfied: urllib3<3,>=1.21.1 in /usr/local/lib/python3.10/dist-packages (from requests<3,>=2->langchain-community) (2.2.3)\n",
            "Requirement already satisfied: certifi>=2017.4.17 in /usr/local/lib/python3.10/dist-packages (from requests<3,>=2->langchain-community) (2024.8.30)\n",
            "Requirement already satisfied: greenlet!=0.4.17 in /usr/local/lib/python3.10/dist-packages (from SQLAlchemy<2.0.36,>=1.4->langchain-community) (3.1.1)\n",
            "Requirement already satisfied: anyio in /usr/local/lib/python3.10/dist-packages (from httpx<1,>=0.23.0->langsmith<0.2.0,>=0.1.125->langchain-community) (3.7.1)\n",
            "Requirement already satisfied: httpcore==1.* in /usr/local/lib/python3.10/dist-packages (from httpx<1,>=0.23.0->langsmith<0.2.0,>=0.1.125->langchain-community) (1.0.7)\n",
            "Requirement already satisfied: sniffio in /usr/local/lib/python3.10/dist-packages (from httpx<1,>=0.23.0->langsmith<0.2.0,>=0.1.125->langchain-community) (1.3.1)\n",
            "Requirement already satisfied: h11<0.15,>=0.13 in /usr/local/lib/python3.10/dist-packages (from httpcore==1.*->httpx<1,>=0.23.0->langsmith<0.2.0,>=0.1.125->langchain-community) (0.14.0)\n",
            "Requirement already satisfied: jsonpointer>=1.9 in /usr/local/lib/python3.10/dist-packages (from jsonpatch<2.0,>=1.33->langchain-core<0.4.0,>=0.3.21->langchain-community) (3.0.0)\n",
            "Requirement already satisfied: annotated-types>=0.6.0 in /usr/local/lib/python3.10/dist-packages (from pydantic<3.0.0,>=2.7.4->langchain<0.4.0,>=0.3.8->langchain-community) (0.7.0)\n",
            "Requirement already satisfied: pydantic-core==2.23.4 in /usr/local/lib/python3.10/dist-packages (from pydantic<3.0.0,>=2.7.4->langchain<0.4.0,>=0.3.8->langchain-community) (2.23.4)\n",
            "Collecting mypy-extensions>=0.3.0 (from typing-inspect<1,>=0.4.0->dataclasses-json<0.7,>=0.5.7->langchain-community)\n",
            "  Downloading mypy_extensions-1.0.0-py3-none-any.whl.metadata (1.1 kB)\n",
            "Requirement already satisfied: exceptiongroup in /usr/local/lib/python3.10/dist-packages (from anyio->httpx<1,>=0.23.0->langsmith<0.2.0,>=0.1.125->langchain-community) (1.2.2)\n",
            "Downloading langchain_community-0.3.8-py3-none-any.whl (2.4 MB)\n",
            "\u001b[2K   \u001b[90m━━━━━━━━━━━━━━━━━━━━━━━━━━━━━━━━━━━━━━━━\u001b[0m \u001b[32m2.4/2.4 MB\u001b[0m \u001b[31m35.3 MB/s\u001b[0m eta \u001b[36m0:00:00\u001b[0m\n",
            "\u001b[?25hDownloading dataclasses_json-0.6.7-py3-none-any.whl (28 kB)\n",
            "Downloading httpx_sse-0.4.0-py3-none-any.whl (7.8 kB)\n",
            "Downloading langchain-0.3.8-py3-none-any.whl (1.0 MB)\n",
            "\u001b[2K   \u001b[90m━━━━━━━━━━━━━━━━━━━━━━━━━━━━━━━━━━━━━━━━\u001b[0m \u001b[32m1.0/1.0 MB\u001b[0m \u001b[31m41.2 MB/s\u001b[0m eta \u001b[36m0:00:00\u001b[0m\n",
            "\u001b[?25hDownloading langchain_core-0.3.21-py3-none-any.whl (409 kB)\n",
            "\u001b[2K   \u001b[90m━━━━━━━━━━━━━━━━━━━━━━━━━━━━━━━━━━━━━━━━\u001b[0m \u001b[32m409.5/409.5 kB\u001b[0m \u001b[31m27.6 MB/s\u001b[0m eta \u001b[36m0:00:00\u001b[0m\n",
            "\u001b[?25hDownloading pydantic_settings-2.6.1-py3-none-any.whl (28 kB)\n",
            "Downloading SQLAlchemy-2.0.35-cp310-cp310-manylinux_2_17_x86_64.manylinux2014_x86_64.whl (3.1 MB)\n",
            "\u001b[2K   \u001b[90m━━━━━━━━━━━━━━━━━━━━━━━━━━━━━━━━━━━━━━━━\u001b[0m \u001b[32m3.1/3.1 MB\u001b[0m \u001b[31m40.5 MB/s\u001b[0m eta \u001b[36m0:00:00\u001b[0m\n",
            "\u001b[?25hDownloading marshmallow-3.23.1-py3-none-any.whl (49 kB)\n",
            "\u001b[2K   \u001b[90m━━━━━━━━━━━━━━━━━━━━━━━━━━━━━━━━━━━━━━━━\u001b[0m \u001b[32m49.5/49.5 kB\u001b[0m \u001b[31m4.2 MB/s\u001b[0m eta \u001b[36m0:00:00\u001b[0m\n",
            "\u001b[?25hDownloading typing_inspect-0.9.0-py3-none-any.whl (8.8 kB)\n",
            "Downloading mypy_extensions-1.0.0-py3-none-any.whl (4.7 kB)\n",
            "Installing collected packages: SQLAlchemy, mypy-extensions, marshmallow, httpx-sse, typing-inspect, pydantic-settings, dataclasses-json, langchain-core, langchain, langchain-community\n",
            "  Attempting uninstall: SQLAlchemy\n",
            "    Found existing installation: SQLAlchemy 2.0.36\n",
            "    Uninstalling SQLAlchemy-2.0.36:\n",
            "      Successfully uninstalled SQLAlchemy-2.0.36\n",
            "  Attempting uninstall: langchain-core\n",
            "    Found existing installation: langchain-core 0.3.19\n",
            "    Uninstalling langchain-core-0.3.19:\n",
            "      Successfully uninstalled langchain-core-0.3.19\n",
            "  Attempting uninstall: langchain\n",
            "    Found existing installation: langchain 0.3.7\n",
            "    Uninstalling langchain-0.3.7:\n",
            "      Successfully uninstalled langchain-0.3.7\n",
            "Successfully installed SQLAlchemy-2.0.35 dataclasses-json-0.6.7 httpx-sse-0.4.0 langchain-0.3.8 langchain-community-0.3.8 langchain-core-0.3.21 marshmallow-3.23.1 mypy-extensions-1.0.0 pydantic-settings-2.6.1 typing-inspect-0.9.0\n"
          ]
        }
      ]
    },
    {
      "cell_type": "code",
      "source": [
        "import urllib\n",
        "import warnings\n",
        "from pathlib import Path as p\n",
        "from pprint import pprint\n",
        "\n",
        "import pandas as pd\n",
        "from langchain import PromptTemplate\n",
        "from langchain.chains.question_answering import load_qa_chain\n",
        "from langchain.document_loaders import PyPDFLoader\n",
        "from langchain.text_splitter import RecursiveCharacterTextSplitter\n",
        "from langchain.vectorstores import Chroma\n",
        "from langchain.chains import RetrievalQA\n",
        "\n",
        "\n",
        "\n",
        "warnings.filterwarnings(\"ignore\")\n",
        "# restart python kernal if issues with langchain import."
      ],
      "metadata": {
        "id": "LNFgpa92pTtY"
      },
      "execution_count": null,
      "outputs": []
    },
    {
      "cell_type": "code",
      "source": [
        "from langchain_google_genai import ChatGoogleGenerativeAI"
      ],
      "metadata": {
        "id": "pxhDhah1pT1_"
      },
      "execution_count": null,
      "outputs": []
    },
    {
      "cell_type": "code",
      "source": [
        "model = ChatGoogleGenerativeAI(model=\"gemini-pro\",google_api_key=GOOGLE_API_KEY,\n",
        "                             temperature=0.2,convert_system_message_to_human=True)"
      ],
      "metadata": {
        "id": "ezFF_jGTpT5D"
      },
      "execution_count": null,
      "outputs": []
    },
    {
      "cell_type": "code",
      "source": [
        "pdf_loader = PyPDFLoader(\"/content/dummy2.pdf\")\n",
        "pages = pdf_loader.load_and_split()\n",
        "print(pages[1].page_content)"
      ],
      "metadata": {
        "colab": {
          "base_uri": "https://localhost:8080/"
        },
        "id": "azuzznRbpT7Z",
        "outputId": "67ef229e-c53b-4301-cee3-027f181a0ab0",
        "collapsed": true
      },
      "execution_count": null,
      "outputs": [
        {
          "output_type": "stream",
          "name": "stdout",
          "text": [
            "Position and Displacement\n",
            "One general way of locating a particle (or particle-like object) is with a position\n",
            "vector ,w h i c h  i s  a  v e c t o r  t h a t  e x t e n d s  f r o m  a  r e f e r e n c e  p o i n t  ( u s u a l l y  t h e  \n",
            "origin) to the particle. In the unit-vector notation of Module 3-2, can be written\n",
            "(4-1)\n",
            "where x , y ,a n d  z are the vector components of and the coefficients x, y,a n d  z\n",
            "are its scalar components.\n",
            "The coefficients x, y,a n d  z give the particle’s location along the coordinate\n",
            "axes and relative to the origin; that is, the particle has the rectangular coordinates\n",
            "(x, y, z). For instance, Fig. 4-1 shows a particle with position vector\n",
            "and rectangular coordinates ( /H110023m ,2m ,5m ) .A l o n g  t h e  x axis the particle is\n",
            "3m  f r o m  t h e  o r i g i n ,i n  t h e  d i r e c t i o n .A l o n g  t h e  y axis it is 2 m from the\n",
            "origin, in the direction. Along the z axis it is 5 m from the origin, in the \n",
            "direction.\n",
            "As a particle moves, its position vector changes in such a way that the vector\n",
            "always extends to the particle from the reference point (the origin). If the posi-\n",
            "tion vector changes—say, from to during a certain time interval—then the\n",
            "particle’s displacement during that time interval is\n",
            "(4-2)\n",
            "Using the unit-vector notation of Eq. 4-1, we can rewrite this displacement as\n",
            "or as (4-3)\n",
            "where coordinates ( x1, y1, z1) correspond to position vector and coordinates\n",
            "(x2, y2, z2) correspond to position vector . We can also rewrite the displacement\n",
            "by substituting x for (x2 x1), y for (y2 y1), and z for (z2 z1):\n",
            "(4-4)/H9004r: /H11005/H9004xiˆ /H11001/H9004yjˆ /H11001/H9004zkˆ.\n",
            "/H11002/H9004/H11002/H9004/H11002/H9004\n",
            "r:\n",
            "2\n",
            "r:\n",
            "1\n",
            "/H9004r: /H11005(x2 /H11002x1)iˆ /H11001(y2 /H11002y1)jˆ /H11001(z2 /H11002z1)kˆ,\n",
            "/H9004r: /H11005(x2iˆ /H11001y2 jˆ /H11001z2kˆ) /H11002(x1iˆ /H11001y1 jˆ /H11001z1kˆ)\n",
            "/H9004r: /H11005r:\n",
            "2 /H11002r:\n",
            "1.\n",
            "/H9004r:\n",
            "r:\n",
            "2r:\n",
            "1\n",
            "/H11001kˆ/H11001jˆ\n",
            "/H11002iˆ\n",
            "r: /H11005(/H110023 m)iˆ/H11001(2 m)jˆ/H11001(5 m)kˆ\n",
            "r:kˆjˆiˆ\n",
            "r: /H11005xiˆ /H11001yjˆ /H11001zkˆ,\n",
            "r:\n",
            "r:\n",
            "Figure 4-1 The position vector for a parti-\n",
            "cle is the vector sum of its vector compo-\n",
            "nents.\n",
            "r:\n",
            "y\n",
            "x\n",
            "z\n",
            "(–3 m)i\n",
            "(2 m)j(5 m)k\n",
            "O\n",
            "ˆ\n",
            "ˆˆ\n",
            "r\n",
            "To locate the \n",
            "particle, this\n",
            "is how far\n",
            "parallel to z.\n",
            "This is how far\n",
            "parallel to y.\n",
            "This is how far\n",
            "parallel to x.\n",
            "position vector . Let’s evaluate those coordinates at the\n",
            "given time, and then we can use Eq. 3-6 to evaluate the mag-\n",
            "nitude and orientation of the position vector.\n",
            "r:\n",
            "Sample Problem 4.01 Two-dimensional position vector, rabbit run\n",
            "A rabbit runs across a parking lot on which a set of\n",
            "coordinate axes has, strangely enough, been drawn. The co-\n",
            "ordinates (meters) of the rabbit’s position as functions of\n",
            "time t (seconds) are given by\n",
            "x /H11005/H110020.31t2 /H110017.2t /H1100128 (4-5)\n",
            "and y /H110050.22t2 /H110029.1t /H1100130. (4-6)\n",
            "(a) At t /H1100515 s, what is the rabbit’s position vector in unit-\n",
            "vector notation and in magnitude-angle notation?\n",
            "KEY IDEA\n",
            "The x and y coordinates of the rabbit’s position, as given by\n",
            "Eqs. 4-5 and 4-6, are the scalar components of the rabbit’s\n",
            "r:\n",
            "Calculations: We can write\n",
            "(4-7)\n",
            "(We write rather than because the components are\n",
            "functions of t,a n d  t h u s  i s  a l s o . )\n",
            "At t /H1100515 s, the scalar components are\n",
            "x /H11005(/H110020.31)(15)2 /H11001(7.2)(15) /H1100128 /H1100566 m\n",
            "and y /H11005(0.22)(15)2 /H11002(9.1)(15) /H1100130 /H11005/H1100257 m,\n",
            "so (Answer) r: /H11005(66 m)iˆ/H11002(57 m)jˆ,\n",
            "r:\n",
            "r:\n",
            "r:(t)\n",
            "r:(t) /H11005x(t)iˆ/H11001y(t)jˆ.\n",
            "634-1 POSITION AND DISPLACEMENT\n"
          ]
        }
      ]
    },
    {
      "cell_type": "code",
      "source": [
        "from google.colab import drive\n",
        "drive.mount('/content/drive')"
      ],
      "metadata": {
        "colab": {
          "base_uri": "https://localhost:8080/"
        },
        "id": "GF3R_MMA38W3",
        "outputId": "58ba2d34-79fb-42f9-e025-2cb3adc541db"
      },
      "execution_count": null,
      "outputs": [
        {
          "output_type": "stream",
          "name": "stdout",
          "text": [
            "Drive already mounted at /content/drive; to attempt to forcibly remount, call drive.mount(\"/content/drive\", force_remount=True).\n"
          ]
        }
      ]
    },
    {
      "cell_type": "code",
      "source": [
        "\n",
        "len(pages)"
      ],
      "metadata": {
        "id": "AIj_SiItNZ7x",
        "colab": {
          "base_uri": "https://localhost:8080/"
        },
        "outputId": "52175b7f-d343-45ab-b534-9868f94a2d13"
      },
      "execution_count": null,
      "outputs": [
        {
          "output_type": "execute_result",
          "data": {
            "text/plain": [
              "272"
            ]
          },
          "metadata": {},
          "execution_count": 12
        }
      ]
    },
    {
      "cell_type": "code",
      "source": [
        "\n",
        "from langchain_google_genai import GoogleGenerativeAIEmbeddings"
      ],
      "metadata": {
        "id": "9omNyGimNZ5g"
      },
      "execution_count": null,
      "outputs": []
    },
    {
      "cell_type": "code",
      "source": [
        "text_splitter = RecursiveCharacterTextSplitter(chunk_size=10000, chunk_overlap=1000)\n",
        "context = \"\\n\\n\".join(str(p.page_content) for p in pages)\n",
        "texts = text_splitter.split_text(context)"
      ],
      "metadata": {
        "id": "AYcXfSZRNgLl"
      },
      "execution_count": null,
      "outputs": []
    },
    {
      "cell_type": "code",
      "source": [
        "embeddings = GoogleGenerativeAIEmbeddings(model=\"models/embedding-001\",google_api_key=GOOGLE_API_KEY)"
      ],
      "metadata": {
        "id": "z0gSapK0NgT9"
      },
      "execution_count": null,
      "outputs": []
    },
    {
      "cell_type": "code",
      "source": [
        "\n",
        "vector_index = Chroma.from_texts(texts, embeddings).as_retriever(search_kwargs={\"k\":5})"
      ],
      "metadata": {
        "id": "IebQzNnzNgc8"
      },
      "execution_count": null,
      "outputs": []
    },
    {
      "cell_type": "code",
      "source": [
        "\n",
        "qa_chain = RetrievalQA.from_chain_type(\n",
        "    model,\n",
        "    retriever=vector_index,\n",
        "    return_source_documents=True\n",
        "\n",
        ")"
      ],
      "metadata": {
        "id": "B-0l-0MxNrHd"
      },
      "execution_count": null,
      "outputs": []
    },
    {
      "cell_type": "code",
      "source": [
        "\n",
        "question = \"what is there in the paper?\"\n",
        "result = qa_chain({\"query\": question})\n",
        "result[\"result\"]"
      ],
      "metadata": {
        "id": "FrWEW3NjNuXY",
        "colab": {
          "base_uri": "https://localhost:8080/",
          "height": 52
        },
        "outputId": "89479a77-935a-4063-caed-5ccad15b2e8a"
      },
      "execution_count": null,
      "outputs": [
        {
          "output_type": "execute_result",
          "data": {
            "text/plain": [
              "'I am sorry, I do not have access to the internet to get the context from the given URL and cannot answer the question.'"
            ],
            "application/vnd.google.colaboratory.intrinsic+json": {
              "type": "string"
            }
          },
          "metadata": {},
          "execution_count": 18
        }
      ]
    },
    {
      "cell_type": "code",
      "source": [
        "\n",
        "result[\"source_documents\"]\n"
      ],
      "metadata": {
        "id": "2PAF46vYN4Vk",
        "collapsed": true,
        "colab": {
          "base_uri": "https://localhost:8080/"
        },
        "outputId": "127b9dfe-f5ce-4b5e-91e7-0e732d1dae5e"
      },
      "execution_count": null,
      "outputs": [
        {
          "output_type": "execute_result",
          "data": {
            "text/plain": [
              "[Document(metadata={}, page_content='59 m/s. (a) At what rate is the gravitational potential energy of the\\nEarth – sky diver system being reduced? (b) At what rate is the sys-\\ntem’s mechanical energy being reduced?\\n117 A 20 kg block on a horizontal surface is attached to a hori-\\nzontal spring of spring constant k /H110054.0 kN/m. The block is pulled\\nto the right so that the spring is stretched 10 cm beyond its relaxed\\nlength, and the block is then released from rest.The frictional force\\nbetween the sliding block and the surface has a magnitude of 80 N.\\n(a) What is the kinetic energy of the block when it has moved\\n2.0 cm from its point of release? (b) What is the kinetic energy of\\nthe block when it first slides back through the point at which the\\nspring is relaxed? (c) What is the maximum kinetic energy attained\\nby the block as it slides from its point of release to the point at\\nwhich the spring is relaxed?\\n118 Resistance to the motion of an automobile consists of road\\nfriction, which is almost independent of speed, and air drag, which\\nis proportional to speed-squared. For a certain car with a weight of\\n12 000 N, the total resistant force F is given by F /H11005300 /H110011.8v2,\\nwith F in newtons and v in meters per second. Calculate the power\\n212 CHAPTER 8 POTENTIAL ENERGY AND CONSERVATION OF ENERGY\\n(in horsepower) required to accelerate the car at 0.92 m/s 2 when\\nthe speed is 80 km/h.\\n119 A 50 g ball is thrown from a window with an initialSSM\\nvelocity of 8.0 m/s at an angle of 30 /H11034above the horizontal. Using\\nenergy methods, determine (a) the kinetic energy of the ball at the\\ntop of its flight and (b) its speed when it is 3.0 m below the window.\\nDoes the answer to (b) depend on either (c) the mass of the ball or\\n(d) the initial angle?\\n120 A spring with a spring constant of 3200 N/m is initially\\nstretched until the elastic potential energy of the spring is 1.44 J.\\n(U /H110050 for the relaxed spring.) What is /H9004U if the initial stretch is\\nchanged to (a) a stretch of 2.0 cm, (b) a compression of 2.0 cm, and\\n(c) a compression of 4.0 cm?\\n121 A locomotive with a power capability of 1.5 MW can\\naccelerate a train from a speed of 10 m/s to 25 m/s in 6.0 min. (a)\\nCalculate the mass of the train. Find (b) the speed of the train and\\n(c) the force accelerating the train as functions of time (in seconds)\\nduring the 6.0 min interval. (d) Find the distance moved by the\\ntrain during the interval.\\n122 A 0.42 kg shuffleboard disk is initially at rest when a\\nplayer uses a cue to increase its speed to 4.2 m/s at constant ac-\\nceleration. The acceleration takes place over a 2.0 m distance, at\\nthe end of which the cue loses contact with the disk. Then the\\ndisk slides an additional 12 m before stopping. Assume that the\\nshuffleboard court is level and that the force of friction on the\\ndisk is constant. What is the increase in the thermal energy of the\\ndisk – court system (a) for that additional 12 m and (b) for the\\nentire 14 m distance? (c) How much work is done on the disk by\\nthe cue?\\n123 A river descends 15 m through rapids. The speed of the wa-\\nter is 3.2 m/s upon entering the rapids and 13 m/s upon leaving.\\nWhat percentage of the gravitational potential energy of the \\nwater–Earth system is transferred to kinetic energy during the de-\\nscent? (Hint: Consider the descent of, say, 10 kg of water.)\\nSSM\\n\\n131 Fasten one end of a vertical spring to a ceiling, attach a cab-\\nbage to the other end, and then slowly lower the cabbage until the\\nupward force on it from the spring balances the gravitational force\\non it. Show that the loss of gravitational potential energy of the\\ncabbage–Earth system equals twice the gain in the spring’s poten-\\ntial energy.\\n132 The maximum force you can exert on an object with one of\\nyour back teeth is about 750 N. Suppose that as you gradually bite\\non a clump of licorice, the licorice resists compression by one of\\nyour teeth by acting like a spring for which k /H110052.5 /H11003105 N/m. Find\\n(a) the distance the licorice is compressed by your tooth and\\n(b) the work the tooth does on the licorice during the compression.\\n(c) Plot the magnitude of your force versus the compression \\ndistance. (d) If there is a potential energy associated with this com-\\npression, plot it versus compression distance.\\nIn the 1990s the pelvis of a particular Triceratops dinosaur was\\nfound to have deep bite marks. The shape of the marks suggested\\nthat they were made by a Tyrannosaurus rex dinosaur. To test the\\nidea, researchers made a replica of a T. rex tooth from bronze and\\naluminum and then used a hydraulic press to gradually drive the\\nreplica into cow bone to the depth seen in the Triceratops bone. A\\ngraph of the force required versus depth of penetration is given in\\nFig. 8-71 for one trial; the required force increased with depth be-\\ncause, as the nearly conical tooth penetrated the bone, more of the\\ntooth came in contact with the bone. (e) How much work was done\\nby the hydraulic press—and thus presumably by the T. rex—in\\nsuch a penetration? (f) Is there a potential energy associated with\\nthis penetration? (The large biting force and energy expenditure\\nattributed to the T. rexby this research suggest that the animal was\\na predator and not a scavenger.)\\n133 Conservative force F(x)\\nacts on a particle that moves\\nalong an x axis. Figure 8-72\\nshows how the potential energy\\nU(x) associated with force F(x)\\nvaries with the position of the\\nparticle, (a) Plot F(x) for the\\nrange 0 /H11021x /H110216 m. (b) The me-\\nchanical energy E of the system\\nis 4.0 J. Plot the kinetic energy\\nK(x) of the particle directly on\\nFig. 8-72.\\n134 Figure 8-73a shows a mol-\\necule consisting of two atoms of\\nmasses m and M (with mM )\\nand separation r.F i g u r e  8 - 7 3b\\nshows the potential energy U(r)\\nof the molecule as a function of\\nr.D e s c r i b e  t h e  m o t i o n  o f  t h e\\natoms (a) if the total mechanical\\nenergy E of the two-atom sys-\\ntem is greater than zero (as is\\nE1), and (b) if E is less than zero\\n(as is E2). For E1 /H110051 /H1100310/H1100219 J\\nand r /H110050.3 nm, find (c) the po-\\ntential energy of the system, (d)\\nthe total kinetic energy of the\\natoms, and (e) the force (magni-\\ntude and direction) acting on\\neach atom. For what values of r\\nis the force (f) repulsive, (g) at-\\ntractive, and (h) zero?\\n135 Repeat Problem 83, but now with the block accelerated up a\\nfrictionless plane inclined at 5.0/H11034to the horizontal.\\n136 A spring with spring constant k /H11005620 N/m is placed in a ver-\\ntical orientation with its lower end supported by a horizontal sur-\\nface. The upper end is depressed 25 cm, and a block with a weight\\nof 50 N is placed (unattached) on the depressed spring. The system\\nis then released from rest. Assume that the gravitational potential\\nenergy Ug of the block is zero at the release point ( y /H110050) and cal-\\nculate the kinetic energy K of the block for y equal to (a) 0,\\n(b) 0.050 m, (c) 0.10 m, (d) 0.15 m, and (e) 0.20 m. Also, (f) how far\\nabove its point of release does the block rise?\\n/H11270\\n213PROBLEMS\\n00\\n2000\\n4000\\n6000\\n8000\\n1 2 3 4 5 6 \\nPenetration depth (mm) \\n7 8 9 10 11 12 \\nForce (N) \\nFigure 8-71 Problem 132.\\nU(x) ( J )\\n3\\nx (m)\\n4 5 6 10\\n4\\n3\\n2\\n1\\n2\\nFigure 8-72 Problem 133.\\nU(r), E  (10–19 J) 3\\n2\\n1\\n0\\n–1\\n–2\\n–3\\n0.2\\nr (nm) \\n(b)\\nE1\\nE2\\nr\\nmM\\n0.3 0.4 0.10\\n(a)\\nFigure 8-73 Problem 134.\\n\\n214\\nWhat Is Physics?\\nEvery mechanical engineer who is hired as a courtroom expert witness to recon-\\nstruct a traffic accident uses physics. Every dance trainer who coaches a ballerina\\non how to leap uses physics. Indeed, analyzing complicated motion of any sort re-\\nquires simplification via an understanding of physics. In this chapter we discuss\\nhow the complicated motion of a system of objects, such as a car or a ballerina,\\ncan be simplified if we determine a special point of the system — the center of\\nmass of that system.\\nHere is a quick example. If you toss a ball into the air without much spin on the\\nball (Fig. 9-1a), its motion is simple — it follows a parabolic path, as we discussed in\\nChapter 4, and the ball can be treated as a particle. If, instead, you flip a baseball bat\\ninto the air (Fig. 9-1b), its motion is more complicated. Because every part of the bat\\nmoves differently, along paths of many different shapes, you cannot represent the\\nbat as a particle. Instead, it is a system of particles each of which follows its own path\\nthrough the air. However, the bat has one special point — the center of mass — that\\ndoes move in a simple parabolic path. The other parts of the bat move around the\\ncenter of mass. (To locate the center of mass, balance the bat on an outstretched fin-\\nger; the point is above your finger, on the bat’s central axis.)\\nYou cannot make a career of flipping baseball bats into the air, but you can\\nmake a career of advising long-jumpers or dancers on how to leap properly into\\nthe air while either moving their arms and legs or rotating their torso. Your\\nstarting point would be to determine the person’s center of mass because of its\\nsimple motion.\\nCHAPTER 9\\nCenter of Mass and Linear Momentum\\n9-1 CENTER OF MASS \\nAfter reading this module, you should be able to . . .\\n9.01 Given the positions of several particles along an axis or\\na plane, determine the location of their center of mass.\\n9.02 Locate the center of mass of an extended, symmetric\\nobject by using the symmetry.\\n9.03 For a two-dimensional or three-dimensional extended ob-\\nject with a uniform distribution of mass, determine the center\\nof mass by (a) mentally dividing the object into simple geomet-\\nric figures, each of which can be replaced by a particle at its\\ncenter and (b) finding the center of mass of those particles.\\n● The center of mass of a system of n particles is defined to be the point whose coordinates are given by\\nor\\nwhere M is the total mass of the system.\\nr:\\ncom /H110051\\nM /H20858\\nn\\ni/H110051\\nmi r:\\ni ,\\nxcom /H110051\\nM /H20858\\nn\\ni/H110051\\nmi xi , ycom /H110051\\nM /H20858\\nn\\ni/H110051\\nmi yi , zcom /H110051\\nM /H20858\\nn\\ni/H110051\\nmi zi ,\\nKey Idea\\nLearning Objectives'),\n",
              " Document(metadata={}, page_content='ond car with twice the mass, what then are the answers to (a)\\nthrough (d)?\\n•10 (a) In Problem 3, what is the speed of the book when it\\nreaches the hands? (b) If we substituted a second book with twice\\nthe mass, what would its speed be? (c) If, instead, the book were\\nthrown down, would the answer to (a) increase, decrease, or \\nremain the same?\\n•11 (a) In Problem 5, what is the speed of the flake\\nwhen it reaches the bottom of the bowl? (b) If we substituted a sec-\\nond flake with twice the mass, what would its speed be? (c) If,\\ninstead, we gave the flake an initial downward speed along the\\nbowl, would the answer to (a) increase, decrease, or remain the\\nsame?\\n•12 (a) In Problem 8, using energy techniques rather than the\\ntechniques of Chapter 4, find the speed of the snowball as it\\nreaches the ground below the cliff. What is that speed (b) if the\\nlaunch angle is changed to 41.0/H11034below the horizontal and (c) if the\\nmass is changed to 2.50 kg?\\n•13 A 5.0 g marble is fired vertically upward using a spring\\ngun. The spring must be compressed 8.0 cm if the marble is to just\\nreach a target 20 m above the marble’s position on the compressed\\nspring. (a) What is the change /H9004Ug in the gravitational potential en-\\nergy of the marble – Earth system during the 20 m ascent?\\n(b) What is the change /H9004Us in the elastic potential energy of the\\nspring during its launch of the marble? (c) What is the spring con-\\nstant of the spring?\\n•14 (a) In Problem 4, what initial speed must be given the ball so\\nthat it reaches the vertically upward position with zero speed? What\\nthen is its speed at (b) the lowest point and (c) the point on the right\\nat which the ball is level with the initial point? (d) If the ball’s mass\\nwere doubled, would the answers to (a) through (c) increase, de-\\ncrease, or remain the same?\\n•15 In Fig. 8-35, a runaway truck with failed brakes is mov-\\ning downgrade at 130 km/h just before the driver steers the truck\\nup a frictionless emergency escape ramp with an inclination of \\nu /H1100515/H11034.T he truck’ s mass is 1.2/H11003104 kg. (a) What minimum length\\nSSM\\nSSM\\nWWWSSM\\nL must the ramp have if the truck is to stop (momentarily) along\\nit? (Assume the truck is a particle, and justify that assumption.)\\nDoes the minimum length L increase, decrease, or remain the same\\nif (b) the truck’s mass is decreased and (c) its speed is decreased?\\nL\\nθ 0\\nv0\\nm\\nFigure 8-34\\nProblems 7, 18,\\nand 21.\\nL\\nθ \\nFigure 8-35 Problem 15.\\nk\\nFigure 8-36\\nProblem 19.\\n\\n/H9004U of the ball – Earth system between t 0 and\\nt 6.0 s (still free fall)?\\n••26 A conservative force ,\\nwhere x is in meters, acts on a particle moving\\nalong an x axis. The potential energy U associated\\nwith this force is assigned a value of 27 J at x /H110050.\\n(a) Write an expression for U as a function of x,\\nwith U in joules and x in meters. (b)\\nWhat is the maximum positive poten-\\ntial energy? At what (c) negative\\nvalue and (d) positive value of x is the\\npotential energy equal to zero?\\n••27 Tarzan, who weighs 688 N,\\nswings from a cliff at the end of a vine\\n18 m long (Fig. 8-40). From the top of\\nthe cliff to the bottom of the swing, he\\ndescends by 3.2 m.The vine will break\\nif the force on it exceeds 950 N.\\n(a) Does the vine break? (b) If no,\\nwhat is the greatest force on it during\\nthe swing? If yes, at what angle with\\nthe vertical does it break?\\nF:\\n/H11005(6.0x /H1100212)iˆ  N\\n/H11005\\n/H11005\\nis L /H11005120 cm long, has a ball\\nattached to one end, and is\\nfixed at its other end. The dis-\\ntance d from the fixed end to a\\nfixed peg at point P is 75.0 cm.\\nWhen the initially stationary\\nball is released with the string\\nhorizontal as shown, it will\\nswing along the dashed arc.\\nWhat is its speed when it\\nreaches (a) its lowest point\\n••31 A block with mass m 2.00 kg is placed against a spring/H11005\\nand (b) its highest point after\\nthe string catches on the peg?\\n••24 A block of mass m /H110052.0 kg is dropped\\nfrom height h /H1100540 cm onto a spring of spring\\nconstant k /H110051960 N/m (Fig. 8-39). Find the max-\\nimum distance the spring is compressed.\\n••25 At t /H110050 a 1.0 kg ball is thrown from a tall\\ntower with . What isv:\\n/H11005(18 m/s)iˆ/H11001(24 m/s)jˆ\\n••23 The string in Fig. 8-38ILW\\n204 CHAPTER 8 POTENTIAL ENERGY AND CONSERVATION OF ENERGY\\n••22 A 60 kg skier starts from rest at height H /H1100520 m above\\nthe end of a ski-jump ramp (Fig. 8-37) and leaves the ramp at angle\\nu /H1100528/H11034.N e g l e c t  t h e  e f f e c t s  o f  a i r  r e s i s t a n c e  a n d  a s s u m e  t h e  r a m p\\nis frictionless. (a) What is the maximum height h of his jump above\\nthe end of the ramp? (b) If he increased his weight by putting on a\\nbackpack, would h then be greater, less, or the same?\\nr\\nP\\nL\\nd\\nFigure 8-38 Problems 23 and 70.\\nH\\nhθ \\nEnd of \\nramp\\nFigure 8-37 Problem 22.\\nh\\nk\\nm\\nFigure 8-39\\nProblem 24.\\nFigure 8-40 Problem 27.\\nθ \\nFigure 8-43 Problem 30.\\n••28 Figure 8-41a applies to the spring\\nin a cork gun (Fig. 8-41 b); it shows the\\nspring force as a function of the stretch or\\ncompression of the spring. The spring is\\ncompressed by 5.5 cm and used to propel\\na 3.8 g cork from the gun. (a) What is the\\nspeed of the cork if it is released as the\\nspring passes through its relaxed posi-\\ntion? (b) Suppose, instead, that the cork\\nsticks to the spring and stretches it 1.5 cm\\nbefore separation occurs.What now is the\\nspeed of the cork at the time of release?\\nof mass m /H1100512 kg is released from rest\\non a frictionless incline of angle 30 /H11034.\\nBelow the block is a spring that can be\\ncompressed 2.0 cm by a force of 270 N.\\nThe block momentarily stops when\\nit compresses the spring by 5.5 cm.\\n(a) How far does the block move\\ndown the incline from its rest posi-\\ntion to this stopping point? (b) What\\nis the speed of the block just as it\\ntouches the spring?\\n••30 A 2.0 kg breadbox on a fric-\\ntionless incline of angle u /H1100540/H11034is\\nconnected, by a cord that runs over a\\npulley, to a light spring of spring con-\\nstant k /H11005120 N/m, as shown in\\n/H9258/H11005\\nθ \\nm\\nFigure 8-42 Problems 29 \\nand 35.\\n••29 In Fig. 8-42, a blockWWWSSM\\nx (cm) \\n2 4 –2–4\\n0.4\\n0.2\\n(a)\\nx\\n0\\n(b)\\nCompressed\\nspring\\nCork\\n–0.2\\n–0.4\\nForce (N) \\nFigure 8-41 Problem 28.\\nFig. 8-43. The box is released from rest when the spring is\\nunstretched. Assume that the pulley is massless and frictionless. (a)\\nWhat is the speed of the box when it has moved 10 cm down the in-\\ncline? (b) How far down the incline from its point of release does\\n\\nWhat is the speed of the box when it has moved 10 cm down the in-\\ncline? (b) How far down the incline from its point of release does\\nthe box slide before momentarily stopping, and what are the (c)\\nmagnitude and (d) direction (up or down the incline) of the box’s\\nacceleration at the instant the box momentarily stops?\\nILW\\non a frictionless incline with angle 30.0 /H11034(Fig. 8-44). (The block is\\nnot attached to the spring.) The spring, with spring constant k 19.6\\nN/cm, is compressed 20.0 cm and then released. (a) What is the elastic\\npotential energy of the compressed\\nspring? (b) What is the change in the\\ngravitational potential energy of the\\nblock – Earth system as the block\\nmoves from the release point to its\\nhighest point on the incline? (c)\\nHow far along the incline is the\\nhighest point from the release\\npoint?\\n/H11005\\n/H9258/H11005\\nθ \\nm\\nk\\nFigure 8-44 Problem 31.'),\n",
              " Document(metadata={}, page_content='•21 A constant horizontal force pushes a 2.00 kg FedEx pack-\\nage across a frictionless floor on which an xy coordinate system has\\nbeen drawn. Figure 5-37 gives the package’s x and y velocity com-\\nponents versus time t.W h a t  a r e  t h e  ( a )  m a g n i t u d e  a n d  ( b )  d i r e c -\\ntion of ?F:\\na\\nF:\\na\\nSSM\\n•22 A customer sits in an amusement park ride in which the\\ncompartment is to be pulled downward in the negative direction of\\na y axis with an acceleration magnitude of 1.24g,w i t h  g /H110059.80 m/s2.\\nA 0.567 g coin rests on the customer’s knee. Once the motion be-\\ngins and in unit-vector notation, what is the coin’s acceleration rel-\\native to (a) the ground and (b) the customer? (c) How long does\\nthe coin take to reach the compartment ceiling, 2.20 m above the\\nknee? In unit-vector notation, what are (d) the actual force on the\\ncoin and (e) the apparent force according to the customer’s meas-\\nure of the coin’s acceleration?\\n•23 Tarzan, who weighs 820 N, swings from a cliff at the end of a\\n20.0 m vine that hangs from a high tree limb and initially makes an\\nangle of 22.0/H11034with the vertical. Assume that an x axis extends hori-\\nzontally away from the cliff edge and a y axis extends upward.\\nImmediately after Tarzan steps off the cliff, the tension in the vine\\nis 760 N. Just then, what are (a) the force on him from the vine in\\nunit-vector notation and the net force on him (b) in unit-vector no-\\ntation and as (c) a magnitude and (d) an angle relative to the\\npositive direction of the x axis? What are the (e) magnitude and\\n(f) angle of Tarzan’s acceleration just then?\\nvx (m/s)\\nvy (m/s)\\nt (s)3210\\n5\\n10\\nt (s)\\n3210\\n–5\\n–10\\n0\\nFigure 5-37 Problem 21.\\n\\nstant speed up a frictionless ramp\\n(3 0 . 0 /H11034) by a horizontal force\\n.W h a t  a r e  t h e  m a g n i t u d e s  o f  ( a )  \\nand (b) the force on the crate from\\nthe ramp?\\n••35 The velocity of a 3.00 kg parti-\\ncle is given by /H11005(8.00t + 3.00t2 )\\nm/s, with time t in seconds. At the instant the net force on the parti-\\ncle has a magnitude of 35.0 N, what are the direction (relative to\\nthe positive direction of the x axis) of (a) the net force and (b) the\\nparticle’s direction of travel?\\n••36 Holding on to a towrope moving parallel to a frictionless ski\\nslope, a 50 kg skier is pulled up the slope, which is at an angle of\\n8.0/H11034with the horizontal.What is the magnitude Frope of the force on\\nthe skier from the rope when (a) the magnitude v of the skier’s ve-\\nlocity is constant at 2.0 m/s and (b) v /H110052.0 m/s as v increases at a\\nrate of 0.10 m/s2?\\n••37 A 40 kg girl and an 8.4 kg sled are on the frictionless ice of a\\nfrozen lake, 15 m apart but connected by a rope of negligible mass.\\nThe girl exerts a horizontal 5.2 N force on the rope. What are the ac-\\nceleration magnitudes of (a) the sled and (b) the girl? (c) How far\\nfrom the girl’s initial position do they meet?\\n••38 A 40 kg skier skis directly down a frictionless slope angled\\nat 10/H11034to the horizontal. Assume the skier moves in the negative di-\\nrection of an x axis along the slope. A wind force with component\\nFx acts on the skier.What is Fx if the magnitude of the skier’s veloc-\\nity is (a) constant, (b) increasing at a rate of 1.0 m/s 2,a n d  ( c )  i n -\\ncreasing at a rate of 2.0 m/s2?\\n••39 A sphere of mass 3.0 /H1100310/H110024 kg is suspended from\\nac o r d .A  s t e a d y  h o r i z o n t a l  b r e e z e  p u s h e s  t h e  s p h e r e  s o  t h a t  t h e\\ncord makes a constant angle of 37 /H11034with the vertical. Find (a) the\\npush magnitude and (b) the tension in the cord.\\n••40 A dated box of dates, of mass 5.00 kg, is sent sliding up a\\nfrictionless ramp at an angle of to the horizontal. Figure 5-41 gives,/H9258\\nILW\\njˆiˆv:\\nF:\\nF:\\n/H9258/H11005\\nm /H11005100 kg is pushed at con-\\n119PROBLEMS\\nhas the constant velocity and (c) has the\\nvarying velocity where t is time?\\n••33 An elevator cab and its load have a combined mass of 1600 kg.\\nFind the tension in the supporting cable when the cab, originally \\nmoving downward at 12 m/s, is brought to rest with constant accel-\\neration in a distance of 42 m.\\n••34 In Fig. 5-40, a crate of mass\\n(13.0tiˆ/H1100214.0tjˆ) m/s2,v: /H11005\\nv: /H11005(13.0iˆ/H1100214.0jˆ) m/s,\\nhas a magnitude of 7.00 N and is at 30.0 /H11034.I n  u n i t - v e c t o r  n o -\\ntation, what is the third force if the lemon half (a) is stationary, (b)\\n/H92582 /H11005F:\\n2\\ntwo of the three horizontal forces that act on it as it is on a frictionless\\ntable. Force has a magnitude of 6.00 N and is at 30.0 /H11034.F o r c e/H92581 /H11005F:\\n1\\nm\\nθ \\nF\\nFigure 5-40 Problem 34.\\nvx (m/s)\\nt (s)\\n4\\n2\\n–2\\n–4\\n102 3\\nFigure 5-41 Problem 40.\\nas a function of time t,t h e  c o m p o n e n t  vx of the box’s velocity along an\\nx axis that extends directly up the ramp. What is the magnitude of the\\nnormal force on the box from the ramp?\\n••41 Using a rope that will snap if the tension in it exceeds 387 N,\\nyou need to lower a bundle of old roofing material weighing 449 N\\nfrom a point 6.1 m above the ground. Obviously if you hang the bun-\\ndle on the rope, it will snap. So, you allow the bundle to accelerate\\ndownward. (a) What magnitude of the bundle’s acceleration will put\\nthe rope on the verge of snapping? (b) At that acceleration, with\\nwhat speed would the bundle hit the ground?\\n••42 In earlier days, horses pulled barges down canals in the\\nmanner shown in Fig. 5-42. Suppose the horse pulls on the rope\\nwith a force of 7900 N at an angle of u /H1100518/H11034to the direction of\\nmotion of the barge, which is headed straight along the positive\\ndirection of an x axis. The mass of the barge is 9500 kg, and the\\n\\nmotion of the barge, which is headed straight along the positive\\ndirection of an x axis. The mass of the barge is 9500 kg, and the\\nmagnitude of its acceleration is 0.12 m/s 2.W h a t  a r e  t h e  ( a )  m a g n i -\\ntude and (b) direction (relative to positive x) of the force on the\\nbarge from the water?\\nθ \\nFigure 5-42 Problem 42.\\n••43 In Fig. 5-43, a chain consisting of five\\nlinks, each of mass 0.100 kg, is lifted vertically\\nwith constant acceleration of magnitude a /H110052.50\\nm/s2.F i n d  t h e  m a g n i t u d e s  o f  ( a )  t h e  f o r c e  o n  l i n k\\n1 from link 2, (b) the force on link 2 from link 3,\\n(c) the force on link 3 from link 4, and (d) the\\nforce on link 4 from link 5. Then find the magni-\\ntudes of (e) the force on the top link from the\\nperson lifting the chain and (f) the net force accel-\\nerating each link.\\n••44 A lamp hangs vertically from a cord in a de-\\nscending elevator that decelerates at 2.4 m/s 2.( a )\\nIf the tension in the cord is 89 N, what is the lamp’s\\nmass? (b) What is the cord’s tension when the ele-\\nvator ascends with an upward acceleration of 2.4 m/s2?\\n••45 An elevator cab that weighs 27.8 kN moves upward. What is\\nthe tension in the cable if the cab’s speed is (a) increasing at a rate\\nof 1.22 m/s2 and (b) decreasing at a rate of 1.22 m/s2?\\n••46 An elevator cab is pulled upward by a cable. The cab and its\\nsingle occupant have a combined mass of 2000 kg. When that occu-\\npant drops a coin, its acceleration relative to the cab is 8.00 m/s 2\\ndownward.What is the tension in the cable?\\n••47 The Zacchini family was renowned for their hu-\\nman-cannonball act in which a family member was shot from a\\ncannon using either elastic bands or compressed air. In one version\\nof the act, Emanuel Zacchini was shot over three Ferris wheels to\\nland in a net at the same height as the open end of the cannon and\\nat a range of 69 m. He was propelled inside the barrel for 5.2 m and\\nlaunched at an angle of 53/H11034.I f  h i s  m a s s  w a s  8 5k g  a n d  h e  u n d e r w e n t\\nconstant acceleration inside the barrel, what was the magnitude of\\nthe force propelling him? (Hint: Treat the launch as though it were\\nalong a ramp at 53/H11034.N e g l e c t  a i r  d r a g . )\\nF:\\nSSM F\\n1\\n2\\n3\\n4\\n5\\na\\nFigure 5-43\\nProblem 43.'),\n",
              " Document(metadata={}, page_content='round trip for each of the four situations. (e) For which, if any, is the\\nexternal force conservative?\\n77 A conservative force F(x) acts on a 2.0 kg particle that\\nmoves along an x axis. The potential energy U(x) associated with\\nF(x) is graphed in Fig. 8-63. When the particle is at x 2.0 m, its/H11005\\nSSM\\n75 To form a pendulum, a 0.092 kg ball is attached to one end\\nof a rod of length 0.62 m and negligible mass, and the other end of\\nthe rod is mounted on a pivot. The rod is rotated until it is straight\\nup, and then it is released from rest so that it swings down around\\nthe pivot. When the ball reaches its lowest point, what are (a) its\\nspeed and (b) the tension in the rod? Next, the rod is rotated until it\\nis horizontal, and then it is again released from rest. (c) At what an-\\ngle from the vertical does the tension in the rod equal the weight of\\nthe ball? (d) If the mass of the ball is increased, does the answer to\\n(c) increase, decrease, or remain the same?\\n76 We move a particle along an x axis, first outward from x 1.0 m\\nto x 4.0 m and then back to x 1.0 m, while an external force\\nacts on it. That force is directed along the x axis, and its x compo-\\nnent can have different values for the outward trip and for the re-\\nturn trip. Here are the values (in newtons) for four situations, where\\nx is in meters:\\n/H11005/H11005\\n/H11005\\nSSM\\n\\n209PROBLEMS\\nvelocity is /H110021.5 m/s. What are the (a) magnitude and (b) direction\\nof F(x) at this position? Between what positions on the (c) left and\\n(d) right does the particle move? (e) What is the particle’s speed at\\nx 7.0 m?/H11005\\n81 A particle can move along only an x axis, where conservative\\nforces act on it (Fig. 8-66 and the following table). The particle is\\nreleased at x 5.00 m with a kinetic energy of K 14.0 J and a\\npotential energy of U 0. If its motion is in the negative direction\\nof the x axis, what are its (a) K and (b) U at x 2.00 m and its\\n(c) K and (d) U at x 0? If its motion is in the positive direction of\\nthe x axis, what are its (e) K and (f) U at x 11.0 m, its (g) K and\\n(h) U at x 12.0 m, and its (i) K and ( j) U at x 13.0 m? (k) Plot\\nU(x) versus x for the range x 0 to x 13.0 m./H11005/H11005\\n/H11005/H11005\\n/H11005\\n/H11005\\n/H11005\\n/H11005\\n/H11005/H11005\\n0\\n–5\\n–10\\n–15\\n–20 U(x) ( J )\\n5\\nx (m)\\n10 150\\nFigure 8-63 Problem 77.\\n78 At a certain factory, 300 kg\\ncrates are dropped vertically from\\na packing machine onto a conveyor\\nbelt moving at 1.20 m/s (Fig. 8-64).\\n(A motor maintains the belt’s con-\\nstant speed.) The coefficient of ki-\\nnetic friction between the belt and\\neach crate is 0.400. After a short\\ntime, slipping between the belt and\\nthe crate ceases, and the crate then moves along with the belt. For\\nthe period of time during which the crate is being brought to rest\\nrelative to the belt, calculate, for a coordinate system at rest in\\nthe factory, (a) the kinetic energy supplied to the crate, (b) the\\nmagnitude of the kinetic frictional force acting on the crate, and\\n(c) the energy supplied by the motor. (d) Explain why answers\\n(a) and (c) differ.\\n79 A 1500 kg car begins sliding down a 5.0 /H11034inclined road\\nwith a speed of 30 km/h. The engine is turned off, and the only\\nforces acting on the car are a net frictional force from the road and\\nthe gravitational force. After the car has traveled 50 m along the\\nroad, its speed is 40 km/h. (a) How much is the mechanical energy\\nof the car reduced because of the net frictional force? (b) What is\\nthe magnitude of that net frictional force?\\n80 In Fig. 8-65, a 1400 kg block of granite is pulled up an incline\\nat a constant speed of 1.34 m/s by a cable and winch. The indicated\\ndistances are d1 40 m and d2 30 m. The coefficient of kinetic\\nfriction between the block and the incline is 0.40. What is the\\npower due to the force applied to the block by the cable?\\n/H11005/H11005\\nSSM\\nd2\\nd1\\nFigure 8-65 Problem 80.\\nFRAGILE\\nFR AGILE\\nFigure 8-64 Problem 78.\\n0 2 4 6 8 10 12 \\nF1 F2 F3 F4\\nx (m) \\nFigure 8-66 Problems 81 and 82.\\nRange Force\\n0 to 2.00 m\\n2.00 m to 3.00 m\\n3.00 m to 8.00 m F 0\\n8.00 m to 11.0 m\\n11.0 m to 12.0 m\\n12.0 m to 15.0 m F /H110050\\nF:\\n4 /H11005/H11002(1.00 N)iˆ\\nF:\\n3 /H11005/H11002(4.00 N)iˆ\\n/H11005\\nF:\\n2 /H11005/H11001(5.00 N)iˆ\\nF:\\n1 /H11005/H11001(3.00 N)iˆ\\nNext, the particle is released from rest at x 0. What are (l) its\\nkinetic energy at x 5.0 m and (m) the maximum positive position\\nxmax it reaches? (n) What does the particle do after it reaches xmax?\\n/H11005\\n/H11005\\n82 For the arrangement of forces in Problem 81, a 2.00 kg parti-\\ncle is released at x 5.00 m with an initial velocity of 3.45 m/s in\\nthe negative direction of the x axis. (a) If the particle can reach\\nx 0 m, what is its speed there, and if it cannot, what is its turning\\npoint? Suppose, instead, the particle is headed in the positive x di-\\nrection when it is released at x 5.00 m at speed 3.45 m/s. (b) If\\nthe particle can reach x 13.0 m, what is its speed there, and if it\\ncannot, what is its turning point?\\n83 A 15 kg block is accelerated at 2.0 m/s 2 along a horizon-\\ntal frictionless surface, with the speed increasing from 10 m/s to\\n30 m/s. What are (a) the change in the block’s mechanical energy\\nand (b) the average rate at which energy is transferred to the\\nblock? What is the instantaneous rate of that transfer when the\\nblock’s speed is (c) 10 m/s and (d) 30 m/s?\\n\\nand (b) the average rate at which energy is transferred to the\\nblock? What is the instantaneous rate of that transfer when the\\nblock’s speed is (c) 10 m/s and (d) 30 m/s?\\n84 A certain spring is found not to conform to Hooke’s law. The\\nforce (in newtons) it exerts when stretched a distance x (in meters)\\nis found to have magnitude 52.8 x /H1100138.4x2 in the direction oppos-\\ning the stretch. (a) Compute the work required to stretch the\\nspring from x 0.500 m to x 1.00 m. (b) With one end of the\\nspring fixed, a particle of mass 2.17 kg is attached to the other end\\nof the spring when it is stretched by an amount x 1.00 m. If the\\nparticle is then released from rest, what is its speed at the instant\\nthe stretch in the spring is x 0.500 m? (c) Is the force exerted by\\nthe spring conservative or nonconservative? Explain.\\n85 Each second, 1200 m 3 of water passes over a waterfall\\n100 m high. Three-fourths of the kinetic energy gained by the water\\nin falling is transferred to electrical energy by a hydroelectric gener-\\nator. At what rate does the generator produce electrical energy?\\n(The mass of 1 m3 of water is 1000 kg.)\\nSSM\\n/H11005\\n/H11005\\n/H11005/H11005\\nSSM\\n/H11005\\n/H11005\\n/H11005\\n/H11005'),\n",
              " Document(metadata={}, page_content='Module 5-2 Some Particular Forces\\n•13 Figure 5-33 shows an arrangement in\\nwhich four disks are suspended by cords. The\\nlonger, top cord loops over a frictionless pul-\\nley and pulls with a force of magnitude 98 N\\non the wall to which it is attached.The tensions\\nin the three shorter cords are T1 /H1100558.8 N,\\nT2 /H1100549.0 N, and T3 /H110059.8 N. What are the\\nmasses of (a) disk A,( b )  d i s k  B,( c )  d i s k  C,\\nand (d) disk D?\\n•14 A block with a weight of 3.0 N is at\\nrest on a horizontal surface. A 1.0 N upward\\nforce is applied to the block by means of an\\nattached vertical string. What are the (a)\\nmagnitude and (b) direction of the force of\\nthe block on the horizontal surface?\\n•15 (a) An 11.0 kg salami is supported by a cord that runs to\\na spring scale, which is supported by a cord hung from the ceiling\\n(Fig. 5-34a). What is the reading on the scale, which is marked in SI\\nweight units? (This is a way to measure weight by a deli owner.) (b)\\nIn Fig. 5-34b the salami is supported by a cord that runs around a\\npulley and to a scale. The opposite end of the scale is attached by a\\ncord to a wall. What is the reading on the scale? (This is the way by\\na physics major.) (c) In Fig. 5-34c the wall has been replaced with a\\nsecond 11.0 kg salami, and the assembly is stationary. What is the\\nSSM\\n117PROBLEMS\\n(a) the magnitude and (b) the angle (relative to the positive direc-\\ntion of the x axis) of the net force on the particle, and (c) what is\\nthe angle of the particle’s direction of travel?\\n••10 A 0.150 kg particle moves along an x axis according \\nvx (m/s)\\nt (s)\\n4\\n2\\n01 2 3–2\\n–4\\nFigure 5-32 Problem 12.\\nA\\nB\\nC\\nD\\nT1\\nT2\\nT3\\nFigure 5-33\\nProblem 13.\\nreading on the scale? (This is the way by a deli owner who was\\nonce a physics major.)\\nSAL A M\\nI\\nG\\nEN O\\nA\\nSAL A M\\nI\\nG\\nEN O\\nA\\nSAL A M\\nI\\nG\\nEN O\\nA\\nSAL A M\\nI\\nG\\nEN O\\nA\\nSpring scale \\nSpring scale \\nSpring\\nscale\\n(b)\\n(c)\\n(a)\\nFigure 5-34 Problem 15.\\n••16 Some insects can walk below\\na thin rod (such as a twig) by hang-\\ning from it. Suppose that such an in-\\nsect has mass m and hangs from a\\nhorizontal rod as shown in Fig. 5-35,\\nwith angle u /H1100540/H11034.I t s  s i x  l e g s  a r e  a l l\\nunder the same tension, and the leg\\nsections nearest the body are hori-\\nzontal. (a) What is the ratio of the\\ntension in each tibia (forepart of a leg) to the insect’s weight? (b) If\\nthe insect straightens out its legs somewhat, does the tension in each\\ntibia increase, decrease, or stay the same?\\nModule 5-3 Applying\\nNewton’s Laws\\n•17 In Fig. 5-36,\\nlet the mass of the block be\\n8.5 kg and the angle be 30 /H11034.\\nFind (a) the tension in the cord\\nand (b) the normal force acting\\non the block. (c) If the cord is\\ncut, find the magnitude of the re-\\nsulting acceleration of the block.\\n•18 In April 1974, John\\nMassis of Belgium managed to\\nmove two passenger railroad\\ncars. He did so by clamping his teeth down on a bit that was at-\\ntached to the cars with a rope and then leaning backward while\\npressing his feet against the railway ties. The cars together weighed\\n700 kN (about 80 tons). Assume that he pulled with a constant\\nforce that was 2.5 times his body weight, at an upward angle u of\\n30/H11034from the horizontal. His mass was 80 kg, and he moved the cars\\nby 1.0 m. Neglecting any retarding force from the wheel rotation,\\nfind the speed of the cars at the end of the pull.\\n/H9258\\nWWWSSM\\nθ \\nLeg\\njoint Tibia\\nRod\\nFigure 5-35 Problem 16.\\nm Frictionless\\nθ \\nFigure 5-36 Problem 17.\\nto x(t) /H11005/H1100213.00 /H110012.00t /H110014.00t2 /H110023.00t3,w i t h  x in meters and t in\\nseconds. In unit-vector notation, what is the net force acting on the\\nparticle at t /H110053.40 s?\\n••11 A 2.0 kg particle moves along an x axis, being propelled by a\\nvariable force directed along that axis. Its position is given by x /H11005\\n3.0 m /H11001(4.0 m/s)t /H11001ct2 /H11002(2.0 m/s3)t3, with x in meters and t in\\nseconds.The factor c is a constant.At t /H110053.0 s, the force on the par-\\nticle has a magnitude of 36 N and is in the negative direction of the\\n\\nseconds.The factor c is a constant.At t /H110053.0 s, the force on the par-\\nticle has a magnitude of 36 N and is in the negative direction of the\\naxis.What is c?\\n•••12 Two horizontal forces and act on a 4.0 kg disk that\\nslides over frictionless ice, on which an xy coordinate system is laid\\nout. Force is in the positive direction of the x axis and has a mag-\\nnitude of 7.0 N. F orce has a magnitude of 9.0 N. F igure 5-32\\ngives the x component vx of the velocity of the disk as a function of\\ntime t during the sliding. What is the angle between the constant di-\\nrections of forces and ? F:\\n2F:\\n1\\nF:\\n2\\nF:\\n1\\nF:\\n2F:\\n1\\n\\n•24 There are two horizontal\\nforces on the 2.0 kg box in the over-\\nhead view of Fig. 5-38 but only one\\n(of magnitude F1 /H1100520 N) is shown.\\nThe box moves along the x axis. For\\neach of the following values for the acceleration ax of the box,\\nfind the second force in unit-vector notation: (a) 10 m/s2,( b )2 0m / s2,\\n(c) 0, (d) /H1100210 m/s2,a n d  ( e )  /H1100220 m/s2.\\n•25 Sunjamming. A “sun yacht” is a spacecraft with a large sail\\nthat is pushed by sunlight. Although such a push is tiny in everyday\\ncircumstances, it can be large enough to send the spacecraft\\noutward from the Sun on a cost-free but slow trip. Suppose that\\nthe spacecraft has a mass of 900 kg and receives a push of 20 N.\\n(a) What is the magnitude of the resulting acceleration? If the craft\\nstarts from rest, (b) how far will it travel in 1 day and (c) how fast\\nwill it then be moving?\\n•26 The tension at which a fishing line snaps is commonly called the\\nline’s “strength.”What minimum strength is needed for a line that is to\\nstop a salmon of weight 85 N in 11 cm if the fish is initially drifting at\\n2.8 m/s? Assume a constant deceleration.\\n•27 An electron with a speed of 1.2 /H11003107 m/s moves hori-\\nzontally into a region where a constant vertical force of 4.5\\n10/H1100216 N acts on it. The mass of the electron is 9.11 /H1100310/H1100231 kg.\\nDetermine the vertical distance the electron is deflected during the\\ntime it has moved 30 mm horizontally.\\n•28 A car that weighs 1.30 /H11003104 N is initially moving at\\n40 km/h when the brakes are applied and the car is brought to a\\nstop in 15 m. Assuming the force that stops the car is constant,\\nfind (a) the magnitude of that force and (b) the time required for\\nthe change in speed. If the initial speed is doubled, and the car ex-\\nperiences the same force during the braking, by what factors are\\n(c) the stopping distance and (d) the stopping time multiplied?\\n(There could be a lesson here about the danger of driving at high\\nspeeds.)\\n•29 A firefighter who weighs 712 N slides down a vertical pole\\nwith an acceleration of 3.00 m/s2,d i r e c t e d  d o w n w a r d .W h a t  a r e  t h e\\n(a) magnitude and (b) direction (up or down) of the vertical force\\non the firefighter from the pole and the (c) magnitude and (d) di-\\nrection of the vertical force on the pole from the firefighter?\\n•30 The high-speed winds around a tornado can drive pro-\\njectiles into trees, building walls, and even metal traffic signs. In a\\nlaboratory simulation, a standard wood toothpick was shot by\\npneumatic gun into an oak branch. The toothpick’s mass was 0.13 g,\\nits speed before entering the branch was 220 m/s, and its penetra-\\ntion depth was 15 mm. If its speed was decreased at a uniform\\nrate, what was the magnitude of the force of the branch on the\\ntoothpick?\\n••31 A block is projected up a frictionless inclined\\nplane with initial speed v0 3.50\\nm/s. The angle of incline is \\n32.0/H11034.( a )  H o w  f a r  u p  t h e  p l a n e\\ndoes the block go? (b) How long\\ndoes it take to get there? (c) What is\\nits speed when it gets back to the\\nbottom?\\n••32 Figure 5-39 shows an overhead\\nview of a 0.0250 kg lemon half and\\n/H9258/H11005\\n/H11005\\nWWWSSM\\n/H11003\\nSSM\\n118 CHAPTER 5 FORCE AND MOTION—I\\nx\\nF1\\nFigure 5-38 Problem 24.\\ny\\nx\\nF1\\nF2\\n2θ \\n1θ \\nFigure 5-39 Problem 32.\\n•19 A 500 kg rocket sled can be accelerated at a constant\\nrate from rest to 1600 km/h in 1.8 s. What is the magnitude of the\\nrequired net force?\\n•20 A car traveling at 53 km/h hits a bridge abutment. A passen-\\nger in the car moves forward a distance of 65 cm (with respect to\\nthe road) while being brought to rest by an inflated air bag. What\\nmagnitude of force (assumed constant) acts on the passenger’s up-\\nper torso, which has a mass of 41 kg?\\n•21 A constant horizontal force pushes a 2.00 kg FedEx pack-\\nage across a frictionless floor on which an xy coordinate system has\\nbeen drawn. Figure 5-37 gives the package’s x and y velocity com-')]"
            ]
          },
          "metadata": {},
          "execution_count": 19
        }
      ]
    },
    {
      "cell_type": "code",
      "source": [
        "\n",
        "template = \"\"\"Use the following pieces of context to answer the question at the end. If you don't know the answer, just say that you don't know, don't try to make up an answer. Keep the answer as concise as possible. Always say \"thanks for asking!\" at the end of the answer.Also Don't answer any question that doesn't have anything to do with the provided context.\n",
        "{context}\n",
        "Question: {question}\n",
        "Helpful Answer:\"\"\"\n",
        "QA_CHAIN_PROMPT = PromptTemplate.from_template(template)# Run chain\n",
        "qa_chain = RetrievalQA.from_chain_type(\n",
        "    model,\n",
        "    retriever=vector_index,\n",
        "    return_source_documents=True,\n",
        "    chain_type_kwargs={\"prompt\": QA_CHAIN_PROMPT}\n",
        ")\n"
      ],
      "metadata": {
        "id": "D40dRDQdOZ0f"
      },
      "execution_count": null,
      "outputs": []
    },
    {
      "cell_type": "code",
      "source": [
        "question = \"what are vectors?\"\n",
        "result = qa_chain({\"query\": question})\n",
        "result[\"result\"]"
      ],
      "metadata": {
        "id": "ciSb4gJJOZ3h",
        "colab": {
          "base_uri": "https://localhost:8080/",
          "height": 87
        },
        "outputId": "b6d0209e-7917-4381-d2eb-a43cb06a0ed7"
      },
      "execution_count": null,
      "outputs": [
        {
          "output_type": "execute_result",
          "data": {
            "text/plain": [
              "'Vectors are mathematical objects that have both magnitude and direction. They are used to represent physical quantities that have both of these properties, such as velocity, acceleration, and force. Vectors are typically represented as arrows, with the length of the arrow representing the magnitude of the vector and the direction of the arrow representing the direction of the vector.'"
            ],
            "application/vnd.google.colaboratory.intrinsic+json": {
              "type": "string"
            }
          },
          "metadata": {},
          "execution_count": 21
        }
      ]
    },
    {
      "cell_type": "code",
      "source": [
        "\n",
        "question = \"what is a dinosaur?\"\n",
        "result = qa_chain({\"query\": question})\n",
        "result[\"result\"]"
      ],
      "metadata": {
        "id": "ivjKH9CfOt79",
        "colab": {
          "base_uri": "https://localhost:8080/",
          "height": 52
        },
        "outputId": "07da3b02-919e-436c-b2fe-c5f015aa1cae"
      },
      "execution_count": null,
      "outputs": [
        {
          "output_type": "execute_result",
          "data": {
            "text/plain": [
              "'A dinosaur is a member of a diverse group of reptiles that first appeared during the Triassic period about 245 million years ago.'"
            ],
            "application/vnd.google.colaboratory.intrinsic+json": {
              "type": "string"
            }
          },
          "metadata": {},
          "execution_count": 23
        }
      ]
    }
  ]
}